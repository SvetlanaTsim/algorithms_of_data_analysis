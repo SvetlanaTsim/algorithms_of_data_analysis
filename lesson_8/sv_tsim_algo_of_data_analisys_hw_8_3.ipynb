{
 "cells": [
  {
   "cell_type": "markdown",
   "id": "8703110f",
   "metadata": {},
   "source": [
    "### Урок 8. Снижение размерности данных "
   ]
  },
  {
   "cell_type": "markdown",
   "id": "36843566",
   "metadata": {},
   "source": [
    "**Задание 3**\n",
    "\n",
    "(*) Обучить любую модель классификации (из рассмотренных в курсе) на датасете IRIS до применения PCA и после него. Сравнить качество классификации по отложенной выборке."
   ]
  },
  {
   "cell_type": "markdown",
   "id": "4c4224b3",
   "metadata": {},
   "source": [
    "**Обучим случайный лес**"
   ]
  },
  {
   "cell_type": "code",
   "execution_count": 121,
   "id": "41d98f32",
   "metadata": {},
   "outputs": [],
   "source": [
    "from sklearn import model_selection\n",
    "import numpy as np\n",
    "import matplotlib.pyplot as plt\n",
    "from sklearn import datasets\n",
    "import pandas as pd\n",
    "import seaborn as sns\n",
    "import random\n",
    "from matplotlib.colors import ListedColormap"
   ]
  },
  {
   "cell_type": "code",
   "execution_count": 122,
   "id": "7509152a",
   "metadata": {},
   "outputs": [
    {
     "data": {
      "text/plain": [
       "((150, 4), (150,))"
      ]
     },
     "execution_count": 122,
     "metadata": {},
     "output_type": "execute_result"
    }
   ],
   "source": [
    "# загрузим датасет ирисов\n",
    "iris = datasets.load_iris()\n",
    "X = iris.data\n",
    "y = iris.target\n",
    "X.shape, y.shape"
   ]
  },
  {
   "cell_type": "code",
   "execution_count": 123,
   "id": "7b557e75",
   "metadata": {},
   "outputs": [
    {
     "data": {
      "text/plain": [
       "array([0, 1, 2])"
      ]
     },
     "execution_count": 123,
     "metadata": {},
     "output_type": "execute_result"
    }
   ],
   "source": [
    "iris_frame['target'].unique()"
   ]
  },
  {
   "cell_type": "markdown",
   "id": "6cf3cee6",
   "metadata": {},
   "source": [
    "Разделим выборку на обучающую и тестовую в соотношении 75/25."
   ]
  },
  {
   "cell_type": "code",
   "execution_count": 124,
   "id": "535be664",
   "metadata": {},
   "outputs": [],
   "source": [
    "X_train, X_test, y_train, y_test = model_selection.train_test_split(X, y, test_size=0.25, random_state=42)"
   ]
  },
  {
   "cell_type": "markdown",
   "id": "67b33a15",
   "metadata": {},
   "source": [
    "Добавим код для построения случайного леса"
   ]
  },
  {
   "cell_type": "code",
   "execution_count": 125,
   "id": "f45168b6",
   "metadata": {},
   "outputs": [],
   "source": [
    "random.seed(42)\n",
    " \n",
    "def get_bootstrap(data, labels, N):\n",
    "    n_samples = data.shape[0]\n",
    "    bootstrap = []\n",
    "    \n",
    "    for i in range(N):\n",
    "        b_data = np.zeros(data.shape)\n",
    "        b_labels = np.zeros(labels.shape)\n",
    "        for j in range(n_samples):\n",
    "            sample_index = random.randint(0, n_samples-1)\n",
    "            b_data[j] = data[sample_index]\n",
    "            b_labels[j] = labels[sample_index]            \n",
    "        bootstrap.append((b_data, b_labels))\n",
    "        \n",
    "    return bootstrap"
   ]
  },
  {
   "cell_type": "code",
   "execution_count": 126,
   "id": "1e60d3f2",
   "metadata": {},
   "outputs": [],
   "source": [
    "def get_subsample(len_sample):\n",
    "    # будем сохранять не сами признаки, а их индексы\n",
    "    sample_indexes = [i for i in range(len_sample)]\n",
    "    \n",
    "    len_subsample = int(np.sqrt(len_sample))\n",
    "    subsample = []\n",
    "    \n",
    "    random.shuffle(sample_indexes)\n",
    "    for _ in range(len_subsample):\n",
    "        subsample.append(sample_indexes.pop())\n",
    "        \n",
    "    return subsample"
   ]
  },
  {
   "cell_type": "code",
   "execution_count": 127,
   "id": "2f6de8c9",
   "metadata": {},
   "outputs": [],
   "source": [
    "# Реализуем класс узла\n",
    "\n",
    "class Node:\n",
    "    \n",
    "    def __init__(self, index, t, true_branch, false_branch):\n",
    "        self.index = index  # индекс признака, по которому ведется сравнение с порогом в этом узле\n",
    "        self.t = t  # значение порога\n",
    "        self.true_branch = true_branch  # поддерево, удовлетворяющее условию в узле\n",
    "        self.false_branch = false_branch  # поддерево, не удовлетворяющее условию в узле"
   ]
  },
  {
   "cell_type": "code",
   "execution_count": 128,
   "id": "8e8637b0",
   "metadata": {},
   "outputs": [],
   "source": [
    "# И класс терминального узла (листа)\n",
    "\n",
    "class Leaf:\n",
    "    \n",
    "    def __init__(self, data, labels):\n",
    "        self.data = data\n",
    "        self.labels = labels\n",
    "        self.prediction = self.predict()\n",
    "        \n",
    "    def predict(self):\n",
    "        # подсчет количества объектов разных классов\n",
    "        classes = {}  # сформируем словарь \"класс: количество объектов\"\n",
    "        for label in self.labels:\n",
    "            if label not in classes:\n",
    "                classes[label] = 0\n",
    "            classes[label] += 1\n",
    "        #  найдем класс, количество объектов которого будет максимальным в этом листе и вернем его    \n",
    "        prediction = max(classes, key=classes.get)\n",
    "        return prediction "
   ]
  },
  {
   "cell_type": "code",
   "execution_count": 129,
   "id": "f63fb547",
   "metadata": {},
   "outputs": [],
   "source": [
    "# Расчет критерия Джини\n",
    "\n",
    "def gini(labels):\n",
    "    #  подсчет количества объектов разных классов\n",
    "    classes = {}\n",
    "    for label in labels:\n",
    "        if label not in classes:\n",
    "            classes[label] = 0\n",
    "        classes[label] += 1\n",
    "    \n",
    "    #  расчет критерия\n",
    "    impurity = 1\n",
    "    for label in classes:\n",
    "        p = classes[label] / len(labels)\n",
    "        impurity -= p ** 2\n",
    "        \n",
    "    return impurity"
   ]
  },
  {
   "cell_type": "code",
   "execution_count": 130,
   "id": "677f4cf7",
   "metadata": {},
   "outputs": [],
   "source": [
    "# Расчет качества\n",
    "\n",
    "def quality(left_labels, right_labels, current_gini):\n",
    "\n",
    "    # доля выбоки, ушедшая в левое поддерево\n",
    "    p = float(left_labels.shape[0]) / (left_labels.shape[0] + right_labels.shape[0])\n",
    "    \n",
    "    return current_gini - p * gini(left_labels) - (1 - p) * gini(right_labels)"
   ]
  },
  {
   "cell_type": "code",
   "execution_count": 131,
   "id": "8f5d0a87",
   "metadata": {},
   "outputs": [],
   "source": [
    "# Разбиение датасета в узле\n",
    "\n",
    "def split(data, labels, index, t):\n",
    "    \n",
    "    left = np.where(data[:, index] <= t)\n",
    "    right = np.where(data[:, index] > t)\n",
    "        \n",
    "    true_data = data[left]\n",
    "    false_data = data[right]\n",
    "    true_labels = labels[left]\n",
    "    false_labels = labels[right]\n",
    "        \n",
    "    return true_data, false_data, true_labels, false_labels"
   ]
  },
  {
   "cell_type": "code",
   "execution_count": 132,
   "id": "818d0cc6",
   "metadata": {},
   "outputs": [],
   "source": [
    "# Нахождение наилучшего разбиения\n",
    "\n",
    "def find_best_split(data, labels):\n",
    "    \n",
    "    #  обозначим минимальное количество объектов в узле\n",
    "    min_leaf = 1\n",
    "\n",
    "    current_gini = gini(labels)\n",
    "\n",
    "    best_quality = 0\n",
    "    best_t = None\n",
    "    best_index = None\n",
    "    \n",
    "    n_features = data.shape[1]\n",
    "    \n",
    "    # выбор индекса из подвыборки длиной sqrt(n_features)\n",
    "    subsample = get_subsample(n_features)\n",
    "    \n",
    "    for index in subsample:\n",
    "        # будем проверять только уникальные значения признака, исключая повторения\n",
    "        t_values = np.unique([row[index] for row in data])\n",
    "        \n",
    "        for t in t_values:\n",
    "            true_data, false_data, true_labels, false_labels = split(data, labels, index, t)\n",
    "            #  пропускаем разбиения, в которых в узле остается менее 5 объектов\n",
    "            if len(true_data) < min_leaf or len(false_data) < min_leaf:\n",
    "                continue\n",
    "            \n",
    "            current_quality = quality(true_labels, false_labels, current_gini)\n",
    "            \n",
    "            #  выбираем порог, на котором получается максимальный прирост качества\n",
    "            if current_quality > best_quality:\n",
    "                best_quality, best_t, best_index = current_quality, t, index\n",
    "\n",
    "    return best_quality, best_t, best_index"
   ]
  },
  {
   "cell_type": "code",
   "execution_count": 133,
   "id": "272f7bdb",
   "metadata": {},
   "outputs": [],
   "source": [
    "# Построение дерева с помощью рекурсивной функции\n",
    "\n",
    "def build_tree(data, labels):\n",
    "\n",
    "    quality, t, index = find_best_split(data, labels)\n",
    "\n",
    "    #  Базовый случай - прекращаем рекурсию, когда нет прироста в качества\n",
    "    if quality == 0:\n",
    "        return Leaf(data, labels)\n",
    "\n",
    "    true_data, false_data, true_labels, false_labels = split(data, labels, index, t)\n",
    "\n",
    "    # Рекурсивно строим два поддерева\n",
    "    true_branch = build_tree(true_data, true_labels)\n",
    "    false_branch = build_tree(false_data, false_labels)\n",
    "\n",
    "    # Возвращаем класс узла со всеми поддеревьями, то есть целого дерева\n",
    "    return Node(index, t, true_branch, false_branch)"
   ]
  },
  {
   "cell_type": "code",
   "execution_count": 134,
   "id": "ae8e3009",
   "metadata": {},
   "outputs": [],
   "source": [
    "def random_forest(data, labels, n_trees):\n",
    "    forest = []\n",
    "    bootstrap = get_bootstrap(data, labels, n_trees)\n",
    "    \n",
    "    for b_data, b_labels in bootstrap:\n",
    "        forest.append(build_tree(b_data, b_labels))\n",
    "        \n",
    "    return forest"
   ]
  },
  {
   "cell_type": "code",
   "execution_count": 135,
   "id": "6c9471c4",
   "metadata": {},
   "outputs": [],
   "source": [
    "# Функция классификации отдельного объекта\n",
    "\n",
    "def classify_object(obj, node):\n",
    "\n",
    "    #  Останавливаем рекурсию, если достигли листа\n",
    "    if isinstance(node, Leaf):\n",
    "        answer = node.prediction\n",
    "        return answer\n",
    "\n",
    "    if obj[node.index] <= node.t:\n",
    "        return classify_object(obj, node.true_branch)\n",
    "    else:\n",
    "        return classify_object(obj, node.false_branch)"
   ]
  },
  {
   "cell_type": "code",
   "execution_count": 136,
   "id": "81d738c7",
   "metadata": {},
   "outputs": [],
   "source": [
    "# функция формирования предсказания по выборке на одном дереве\n",
    "\n",
    "def predict(data, tree):\n",
    "    \n",
    "    classes = []\n",
    "    for obj in data:\n",
    "        prediction = classify_object(obj, tree)\n",
    "        classes.append(prediction)\n",
    "    return classes"
   ]
  },
  {
   "cell_type": "code",
   "execution_count": 137,
   "id": "dc068a98",
   "metadata": {},
   "outputs": [],
   "source": [
    "# предсказание голосованием деревьев\n",
    "\n",
    "def tree_vote(forest, data):\n",
    "\n",
    "    # добавим предсказания всех деревьев в список\n",
    "    predictions = []\n",
    "    for tree in forest:\n",
    "        predictions.append(predict(data, tree))\n",
    "    \n",
    "    # сформируем список с предсказаниями для каждого объекта\n",
    "    predictions_per_object = list(zip(*predictions))\n",
    "    \n",
    "    # выберем в качестве итогового предсказания для каждого объекта то,\n",
    "    # за которое проголосовало большинство деревьев\n",
    "    voted_predictions = []\n",
    "    for obj in predictions_per_object:\n",
    "        voted_predictions.append(max(set(obj), key=obj.count))\n",
    "        \n",
    "    return voted_predictions"
   ]
  },
  {
   "cell_type": "code",
   "execution_count": 138,
   "id": "8d23298e",
   "metadata": {},
   "outputs": [],
   "source": [
    "  # Введем функцию подсчета точности как доли правильных ответов\n",
    "\n",
    "def accuracy_metric(actual, predicted):\n",
    "    correct = 0\n",
    "    for i in range(len(actual)):\n",
    "      if actual[i] == predicted[i]:\n",
    "        correct += 1\n",
    "    return correct / float(len(actual)) * 100.0"
   ]
  },
  {
   "cell_type": "code",
   "execution_count": 139,
   "id": "18c67d5b",
   "metadata": {},
   "outputs": [],
   "source": [
    "train_accuracies = []\n",
    "test_accuracies = []"
   ]
  },
  {
   "cell_type": "code",
   "execution_count": 140,
   "id": "798cd7e7",
   "metadata": {},
   "outputs": [
    {
     "name": "stdout",
     "output_type": "stream",
     "text": [
      "Точность случайного леса из 2 деревьев на обучающей выборке: 95.536\n",
      "Точность случайного леса из 2 деревьев на тестовой выборке: 94.737\n"
     ]
    }
   ],
   "source": [
    "# Обучим случайный лес и проверим результаты\n",
    "\n",
    "n_trees = 2\n",
    "\n",
    "my_forest = random_forest(X_train, y_train, n_trees)\n",
    "\n",
    "train_answer = tree_vote(my_forest, X_train)\n",
    "\n",
    "test_answer = tree_vote(my_forest, X_test)\n",
    "\n",
    "train_accuracy = accuracy_metric(y_train, train_answer)\n",
    "train_accuracies.append(train_accuracy)\n",
    "\n",
    "test_accuracy = accuracy_metric(y_test, test_answer)\n",
    "test_accuracies.append(test_accuracy)\n",
    "\n",
    "print(f'Точность случайного леса из {n_trees} деревьев на обучающей выборке: {train_accuracy:.3f}')\n",
    "print(f'Точность случайного леса из {n_trees} деревьев на тестовой выборке: {test_accuracy:.3f}')"
   ]
  },
  {
   "cell_type": "code",
   "execution_count": 141,
   "id": "775696a5",
   "metadata": {},
   "outputs": [
    {
     "name": "stdout",
     "output_type": "stream",
     "text": [
      "Точность случайного леса из 3 деревьев на обучающей выборке: 98.214\n",
      "Точность случайного леса из 3 деревьев на тестовой выборке: 97.368\n"
     ]
    }
   ],
   "source": [
    "# Обучим случайный лес и проверим результаты\n",
    "\n",
    "n_trees = 3\n",
    "\n",
    "my_forest = random_forest(X_train, y_train, n_trees)\n",
    "\n",
    "train_answer = tree_vote(my_forest, X_train)\n",
    "\n",
    "test_answer = tree_vote(my_forest, X_test)\n",
    "\n",
    "train_accuracy = accuracy_metric(y_train, train_answer)\n",
    "train_accuracies.append(train_accuracy)\n",
    "\n",
    "test_accuracy = accuracy_metric(y_test, test_answer)\n",
    "test_accuracies.append(test_accuracy)\n",
    "\n",
    "print(f'Точность случайного леса из {n_trees} деревьев на обучающей выборке: {train_accuracy:.3f}')\n",
    "print(f'Точность случайного леса из {n_trees} деревьев на тестовой выборке: {test_accuracy:.3f}')"
   ]
  },
  {
   "cell_type": "code",
   "execution_count": 142,
   "id": "9ae204f3",
   "metadata": {},
   "outputs": [
    {
     "name": "stdout",
     "output_type": "stream",
     "text": [
      "Точность случайного леса из 4 деревьев на обучающей выборке: 98.214\n",
      "Точность случайного леса из 4 деревьев на тестовой выборке: 100.000\n"
     ]
    }
   ],
   "source": [
    "# Обучим случайный лес и проверим результаты\n",
    "\n",
    "n_trees = 4\n",
    "\n",
    "my_forest = random_forest(X_train, y_train, n_trees)\n",
    "\n",
    "train_answer = tree_vote(my_forest, X_train)\n",
    "\n",
    "test_answer = tree_vote(my_forest, X_test)\n",
    "\n",
    "train_accuracy = accuracy_metric(y_train, train_answer)\n",
    "train_accuracies.append(train_accuracy)\n",
    "\n",
    "test_accuracy = accuracy_metric(y_test, test_answer)\n",
    "test_accuracies.append(test_accuracy)\n",
    "\n",
    "print(f'Точность случайного леса из {n_trees} деревьев на обучающей выборке: {train_accuracy:.3f}')\n",
    "print(f'Точность случайного леса из {n_trees} деревьев на тестовой выборке: {test_accuracy:.3f}')"
   ]
  },
  {
   "cell_type": "markdown",
   "id": "0e17b344",
   "metadata": {},
   "source": [
    "**Теперь реализуем PCA**"
   ]
  },
  {
   "cell_type": "code",
   "execution_count": 143,
   "id": "8ea75a0c",
   "metadata": {},
   "outputs": [],
   "source": [
    "# Для начала масштабируем выборку\n",
    "X_ = X.astype(float)\n",
    "\n",
    "rows, cols = X_.shape\n",
    "\n",
    "# центрирование — вычитание из каждого значения среднего по строке\n",
    "means = X_.mean(0)\n",
    "for i in range(rows):\n",
    "    for j in range(cols):\n",
    "        X_[i, j] -= means[j]\n",
    "\n",
    "# деление каждого значения на стандартное отклонение\n",
    "std = np.std(X_, axis=0)\n",
    "for i in range(cols):\n",
    "    for j in range(rows):\n",
    "        X_[j][i] /= std[i]"
   ]
  },
  {
   "cell_type": "code",
   "execution_count": 144,
   "id": "58590697",
   "metadata": {},
   "outputs": [
    {
     "name": "stdout",
     "output_type": "stream",
     "text": [
      "Собственные значения в порядке убывания:\n",
      "(437.77467247979894, array([ 0.52106591, -0.26934744,  0.5804131 ,  0.56485654]))\n",
      "(137.10457072021057, array([-0.37741762, -0.92329566, -0.02449161, -0.06694199]))\n",
      "(22.0135313356973, array([-0.71956635,  0.24438178,  0.14212637,  0.63427274]))\n",
      "(3.107225464292855, array([ 0.26128628, -0.12350962, -0.80144925,  0.52359713]))\n"
     ]
    }
   ],
   "source": [
    "# Найдём собственные векторы и собственные значения (англ. Eigenvalues)\n",
    " \n",
    "covariance_matrix = X_.T.dot(X_)\n",
    "\n",
    "eig_values, eig_vectors = np.linalg.eig(covariance_matrix)\n",
    "\n",
    "# сформируем список кортежей (собственное значение, собственный вектор)\n",
    "eig_pairs = [(np.abs(eig_values[i]), eig_vectors[:, i]) for i in range(len(eig_values))]\n",
    "\n",
    "# и отсортируем список по убыванию собственных значений\n",
    "eig_pairs.sort(key=lambda x: x[0], reverse=True)\n",
    "\n",
    "print('Собственные значения в порядке убывания:')\n",
    "for i in eig_pairs:\n",
    "    print(i)"
   ]
  },
  {
   "cell_type": "code",
   "execution_count": 145,
   "id": "873649f4",
   "metadata": {},
   "outputs": [
    {
     "name": "stdout",
     "output_type": "stream",
     "text": [
      "Доля дисперсии, описываемая каждой из компонент \n",
      "[72.96244541329986, 22.850761786701774, 3.6689218892828857, 0.5178709107154761]\n",
      "Кумулятивная доля дисперсии по компонентам \n",
      "[ 72.96244541  95.8132072   99.48212909 100.        ]\n"
     ]
    }
   ],
   "source": [
    "eig_sum = sum(eig_values)\n",
    "var_exp = [(i / eig_sum) * 100 for i in sorted(eig_values, reverse=True)]\n",
    "cum_var_exp = np.cumsum(var_exp)\n",
    "print(f'Доля дисперсии, описываемая каждой из компонент \\n{var_exp}')\n",
    "\n",
    "# а теперь оценим кумулятивную, то есть накапливаемую, дисперсию при учитывании каждой из компонент\n",
    "print(f'Кумулятивная доля дисперсии по компонентам \\n{cum_var_exp}')"
   ]
  },
  {
   "cell_type": "code",
   "execution_count": 146,
   "id": "30653657",
   "metadata": {},
   "outputs": [
    {
     "name": "stdout",
     "output_type": "stream",
     "text": [
      "Матрица весов W:\n",
      " [[ 0.52106591 -0.37741762]\n",
      " [-0.26934744 -0.92329566]\n",
      " [ 0.5804131  -0.02449161]\n",
      " [ 0.56485654 -0.06694199]]\n"
     ]
    }
   ],
   "source": [
    "# Сформируем вектор весов из собственных векторов, соответствующих первым двум главным компонентам\n",
    "W = np.hstack((eig_pairs[0][1].reshape(4,1), eig_pairs[1][1].reshape(4,1)))\n",
    "\n",
    "print(f'Матрица весов W:\\n', W)"
   ]
  },
  {
   "cell_type": "code",
   "execution_count": 147,
   "id": "37c8c824",
   "metadata": {},
   "outputs": [],
   "source": [
    "# Сформируем новую матрицу «объекты-признаки»\n",
    "Z = X_.dot(W)"
   ]
  },
  {
   "cell_type": "code",
   "execution_count": 148,
   "id": "74cf7dbc",
   "metadata": {},
   "outputs": [],
   "source": [
    "# также разделим данные на трейн и тест\n",
    "\n",
    "X_train_PCA, X_test_PCA, y_train_PCA, y_test_PCA = model_selection.train_test_split(Z, y, test_size=0.25, random_state=42)"
   ]
  },
  {
   "cell_type": "code",
   "execution_count": 149,
   "id": "137144eb",
   "metadata": {},
   "outputs": [],
   "source": [
    "train_accuracies_PCA = []\n",
    "test_accuracies_PCA = []"
   ]
  },
  {
   "cell_type": "code",
   "execution_count": 150,
   "id": "8e84ee4d",
   "metadata": {},
   "outputs": [
    {
     "name": "stdout",
     "output_type": "stream",
     "text": [
      "Точность случайного леса из 2 деревьев с применением PCA на обучающей выборке: 90.179\n",
      "Точность случайного леса из 2 деревьев с применением PCA на тестовой выборке: 76.316\n"
     ]
    }
   ],
   "source": [
    "# Обучим случайный лес и проверим результаты\n",
    "\n",
    "n_trees = 2\n",
    "\n",
    "my_forest_PCA = random_forest(X_train_PCA, y_train_PCA, n_trees)\n",
    "\n",
    "train_answer_PCA = tree_vote(my_forest_PCA, X_train_PCA)\n",
    "\n",
    "test_answer_PCA = tree_vote(my_forest_PCA, X_test_PCA)\n",
    "\n",
    "train_accuracy_PCA = accuracy_metric(y_train_PCA, train_answer_PCA)\n",
    "train_accuracies_PCA.append(train_accuracy_PCA)\n",
    "\n",
    "test_accuracy_PCA = accuracy_metric(y_test_PCA, test_answer_PCA)\n",
    "test_accuracies_PCA.append(test_accuracy_PCA)\n",
    "\n",
    "print(f'Точность случайного леса из {n_trees} деревьев с применением PCA на обучающей выборке: {train_accuracy_PCA:.3f}')\n",
    "print(f'Точность случайного леса из {n_trees} деревьев с применением PCA на тестовой выборке: {test_accuracy_PCA:.3f}')"
   ]
  },
  {
   "cell_type": "code",
   "execution_count": 151,
   "id": "c2078537",
   "metadata": {},
   "outputs": [
    {
     "name": "stdout",
     "output_type": "stream",
     "text": [
      "Точность случайного леса из 3 деревьев с применением PCA на обучающей выборке: 99.107\n",
      "Точность случайного леса из 3 деревьев с применением PCA на тестовой выборке: 94.737\n"
     ]
    }
   ],
   "source": [
    "#увеличим число деревьев\n",
    "\n",
    "n_trees = 3\n",
    "\n",
    "my_forest_PCA = random_forest(X_train_PCA, y_train_PCA, n_trees)\n",
    "\n",
    "train_answer_PCA = tree_vote(my_forest_PCA, X_train_PCA)\n",
    "\n",
    "test_answer_PCA = tree_vote(my_forest_PCA, X_test_PCA)\n",
    "\n",
    "train_accuracy_PCA = accuracy_metric(y_train_PCA, train_answer_PCA)\n",
    "train_accuracies_PCA.append(train_accuracy_PCA)\n",
    "\n",
    "test_accuracy_PCA = accuracy_metric(y_test_PCA, test_answer_PCA)\n",
    "test_accuracies_PCA.append(test_accuracy_PCA)\n",
    "\n",
    "print(f'Точность случайного леса из {n_trees} деревьев с применением PCA на обучающей выборке: {train_accuracy_PCA:.3f}')\n",
    "print(f'Точность случайного леса из {n_trees} деревьев с применением PCA на тестовой выборке: {test_accuracy_PCA:.3f}')"
   ]
  },
  {
   "cell_type": "code",
   "execution_count": 152,
   "id": "279de934",
   "metadata": {},
   "outputs": [
    {
     "name": "stdout",
     "output_type": "stream",
     "text": [
      "Точность случайного леса из 4 деревьев с применением PCA на обучающей выборке: 99.107\n",
      "Точность случайного леса из 4 деревьев с применением PCA на тестовой выборке: 84.211\n"
     ]
    }
   ],
   "source": [
    "#увеличим число деревьев\n",
    "\n",
    "n_trees = 4\n",
    "\n",
    "my_forest_PCA = random_forest(X_train_PCA, y_train_PCA, n_trees)\n",
    "\n",
    "train_answer_PCA = tree_vote(my_forest_PCA, X_train_PCA)\n",
    "\n",
    "test_answer_PCA = tree_vote(my_forest_PCA, X_test_PCA)\n",
    "\n",
    "train_accuracy_PCA = accuracy_metric(y_train_PCA, train_answer_PCA)\n",
    "train_accuracies_PCA.append(train_accuracy_PCA)\n",
    "\n",
    "test_accuracy_PCA = accuracy_metric(y_test_PCA, test_answer_PCA)\n",
    "test_accuracies_PCA.append(test_accuracy_PCA)\n",
    "\n",
    "print(f'Точность случайного леса из {n_trees} деревьев с применением PCA на обучающей выборке: {train_accuracy_PCA:.3f}')\n",
    "print(f'Точность случайного леса из {n_trees} деревьев с применением PCA на тестовой выборке: {test_accuracy_PCA:.3f}')"
   ]
  },
  {
   "cell_type": "code",
   "execution_count": null,
   "id": "3497e5b4",
   "metadata": {},
   "outputs": [],
   "source": [
    "#функция, чтобы построить все ошибки на одном графике при каждой скорости обучения    \n",
    "def get_all_errors_plot_for_eta(n_tree, train_mse, test_mse, etas):\n",
    "    plt.figure(figsize= (16, 8))\n",
    "    plt.xlim(0, n_tree)\n",
    "    plt.ylim(-1000, len(train_mse) + 1000)\n",
    "\n",
    "    ax1 = plt.subplot(221)  \n",
    "    plt.xlabel('Number of trees')\n",
    "    plt.ylabel('MSE')\n",
    "    ax1.set_title(f'Train, number of trees = {n_tree}')\n",
    "\n",
    "    ax2 = plt.subplot(222)\n",
    "    ax2.set_title(f'Test, number of trees = {n_tree}')\n",
    "    plt.xlabel('Number of trees')\n",
    "    plt.ylabel('MSE')\n",
    "\n",
    "    for i in range(len(etas)):\n",
    "        ax1.plot(list(range(1, n_tree+1)), train_mse[i], label=f'eta = {etas[i]}')\n",
    "        ax2.plot(list(range(1, n_tree+1)), test_mse[i], label=f'eta = {etas[i]}')\n",
    "\n",
    "    plt.legend(loc='upper right')\n",
    "    plt.show()"
   ]
  },
  {
   "cell_type": "code",
   "execution_count": 157,
   "id": "4aa834e1",
   "metadata": {},
   "outputs": [
    {
     "data": {
      "text/plain": [
       "<matplotlib.legend.Legend at 0x236fc13cf40>"
      ]
     },
     "execution_count": 157,
     "metadata": {},
     "output_type": "execute_result"
    },
    {
     "data": {
      "image/png": "[encoded data removed]",
      "text/plain": [
       "<Figure size 1152x576 with 1 Axes>"
      ]
     },
     "metadata": {
      "needs_background": "light"
     },
     "output_type": "display_data"
    }
   ],
   "source": [
    "# Визуализируем изменение точности алгоритма\n",
    "plt.figure(figsize= (16, 8))\n",
    "\n",
    "plt.plot([2, 3, 4], train_accuracies, 'm-o', linewidth=2, markersize=7,  label = 'train accuracies' )\n",
    "plt.plot([2, 3, 4], test_accuracies, 'c-o', linewidth=2, markersize=7,  label = 'test accuracies' )\n",
    "plt.plot([2, 3, 4], train_accuracies_PCA, 'r-o', linewidth=2, markersize=7,  label = 'train accuracies after PCA' )\n",
    "plt.plot([2, 3, 4], test_accuracies_PCA, 'b-o', linewidth=2, markersize=7,  label = 'test accuracies after PCA' )\n",
    "    \n",
    "plt.title('Accuracy change')\n",
    "plt.xlabel('Number of trees')\n",
    "plt.ylabel('Accuracy')\n",
    "plt.grid()\n",
    "plt.legend(loc='lower right')"
   ]
  },
  {
   "cell_type": "markdown",
   "id": "da8a7193",
   "metadata": {},
   "source": [
    "Построим на двух графиках, чтобы было лучше видно"
   ]
  },
  {
   "cell_type": "code",
   "execution_count": 159,
   "id": "0dbb4e90",
   "metadata": {},
   "outputs": [
    {
     "data": {
      "image/png": "[encoded data removed]",
      "text/plain": [
       "<Figure size 1152x576 with 2 Axes>"
      ]
     },
     "metadata": {
      "needs_background": "light"
     },
     "output_type": "display_data"
    }
   ],
   "source": [
    "plt.figure(figsize= (16, 8))\n",
    "plt.xlim(0, 4)\n",
    "\n",
    "ax1 = plt.subplot(221)  \n",
    "plt.xlabel('Number of trees')\n",
    "plt.ylabel('Accuracy')\n",
    "ax1.set_title('Accuracy change')\n",
    "ax1.plot([2, 3, 4], train_accuracies, 'm-o', linewidth=2, markersize=7,  label = 'train accuracies' )\n",
    "ax1.plot([2, 3, 4], test_accuracies, 'c-o', linewidth=2, markersize=7,  label = 'test accuracies' )\n",
    "plt.legend(loc='lower right')\n",
    "\n",
    "ax2 = plt.subplot(222)\n",
    "ax2.set_title('Accuracy change after PCA')\n",
    "plt.xlabel('Number of trees')\n",
    "plt.ylabel('Accuracy')\n",
    "plt.plot([2, 3, 4], train_accuracies_PCA, 'r-o', linewidth=2, markersize=7,  label = 'train accuracies after PCA' )\n",
    "plt.plot([2, 3, 4], test_accuracies_PCA, 'b-o', linewidth=2, markersize=7,  label = 'test accuracies after PCA' )\n",
    "plt.legend(loc='lower right')\n",
    "\n",
    "plt.show()"
   ]
  },
  {
   "cell_type": "markdown",
   "id": "ec48db56",
   "metadata": {},
   "source": [
    "**Выводы**\n",
    "\n",
    "Все-таки работа с данными после PCA в \"Случайном лесе\" дает результат хуже чем, без снижения размерности. После 3х деревьев (на 4х) начинается переобучение. "
   ]
  }
 ],
 "metadata": {
  "kernelspec": {
   "display_name": "Python 3 (ipykernel)",
   "language": "python",
   "name": "python3"
  },
  "language_info": {
   "codemirror_mode": {
    "name": "ipython",
    "version": 3
   },
   "file_extension": ".py",
   "mimetype": "text/x-python",
   "name": "python",
   "nbconvert_exporter": "python",
   "pygments_lexer": "ipython3",
   "version": "3.9.7"
  }
 },
 "nbformat": 4,
 "nbformat_minor": 5
}
