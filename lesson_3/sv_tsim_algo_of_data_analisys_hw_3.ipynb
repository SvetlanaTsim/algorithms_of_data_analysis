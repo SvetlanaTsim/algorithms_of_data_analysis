{
 "cells": [
  {
   "cell_type": "markdown",
   "id": "453fadf3",
   "metadata": {},
   "source": [
    "### Урок 3. Классификация. Логистическая регрессия"
   ]
  },
  {
   "cell_type": "code",
   "execution_count": 226,
   "id": "164e7223",
   "metadata": {},
   "outputs": [],
   "source": [
    "import numpy as np\n",
    "import matplotlib.pyplot as plt"
   ]
  },
  {
   "cell_type": "markdown",
   "id": "42f2af73",
   "metadata": {},
   "source": [
    "**Задача 1**\n",
    "\n",
    "Измените функцию calc_logloss так, чтобы нули по возможности не попадали в np.log (как вариант - использовать np.clip или np.where)."
   ]
  },
  {
   "cell_type": "code",
   "execution_count": 227,
   "id": "a051240e",
   "metadata": {},
   "outputs": [],
   "source": [
    "X = np.array([[1, 1, 1, 1, 1, 1, 1, 1, 1, 1],\n",
    "              [1, 1, 2, 5, 3, 0, 5, 10, 1, 2],\n",
    "              [500, 700, 750, 600, 1450, 800, 1500, 2000, 450, 1000],\n",
    "              [1, 1, 2, 1, 2,  1, 3, 3, 1, 2]], dtype = np.float64)\n",
    "y = np.array([0, 0, 1, 0, 1, 0, 1, 0, 1, 1], dtype = np.float64)"
   ]
  },
  {
   "cell_type": "code",
   "execution_count": 228,
   "id": "d105f1b9",
   "metadata": {},
   "outputs": [
    {
     "data": {
      "text/plain": [
       "array([[1.00e+00, 1.00e+00, 1.00e+00, 1.00e+00, 1.00e+00, 1.00e+00,\n",
       "        1.00e+00, 1.00e+00, 1.00e+00, 1.00e+00],\n",
       "       [1.00e+00, 1.00e+00, 2.00e+00, 5.00e+00, 3.00e+00, 0.00e+00,\n",
       "        5.00e+00, 1.00e+01, 1.00e+00, 2.00e+00],\n",
       "       [5.00e+02, 7.00e+02, 7.50e+02, 6.00e+02, 1.45e+03, 8.00e+02,\n",
       "        1.50e+03, 2.00e+03, 4.50e+02, 1.00e+03],\n",
       "       [1.00e+00, 1.00e+00, 2.00e+00, 1.00e+00, 2.00e+00, 1.00e+00,\n",
       "        3.00e+00, 3.00e+00, 1.00e+00, 2.00e+00]])"
      ]
     },
     "execution_count": 228,
     "metadata": {},
     "output_type": "execute_result"
    }
   ],
   "source": [
    "X"
   ]
  },
  {
   "cell_type": "code",
   "execution_count": 229,
   "id": "56aaaa39",
   "metadata": {},
   "outputs": [
    {
     "data": {
      "text/plain": [
       "array([0., 0., 1., 0., 1., 0., 1., 0., 1., 1.])"
      ]
     },
     "execution_count": 229,
     "metadata": {},
     "output_type": "execute_result"
    }
   ],
   "source": [
    "y"
   ]
  },
  {
   "cell_type": "code",
   "execution_count": 230,
   "id": "d7589c0f",
   "metadata": {},
   "outputs": [],
   "source": [
    "def calc_std_feat(x):\n",
    "    res = (x - x.mean()) / x.std()\n",
    "    return res"
   ]
  },
  {
   "cell_type": "code",
   "execution_count": 231,
   "id": "f903a159",
   "metadata": {},
   "outputs": [
    {
     "data": {
      "text/plain": [
       "array([[ 1.        ,  1.        ,  1.        ,  1.        ,  1.        ,\n",
       "         1.        ,  1.        ,  1.        ,  1.        ,  1.        ],\n",
       "       [-0.97958969, -0.56713087, -0.46401617, -0.77336028,  0.97958969,\n",
       "        -0.36090146,  1.08270439,  2.11385144, -1.08270439,  0.05155735],\n",
       "       [-0.97958969, -0.56713087, -0.46401617, -0.77336028,  0.97958969,\n",
       "        -0.36090146,  1.08270439,  2.11385144, -1.08270439,  0.05155735],\n",
       "       [-0.97958969, -0.56713087, -0.46401617, -0.77336028,  0.97958969,\n",
       "        -0.36090146,  1.08270439,  2.11385144, -1.08270439,  0.05155735]])"
      ]
     },
     "execution_count": 231,
     "metadata": {},
     "output_type": "execute_result"
    }
   ],
   "source": [
    "X_st = X.copy()\n",
    "X_st[1:, :] = calc_std_feat(X[2, :])\n",
    "X_st"
   ]
  },
  {
   "cell_type": "code",
   "execution_count": 232,
   "id": "371e295a",
   "metadata": {},
   "outputs": [],
   "source": [
    "def calc_logloss(y, y_pred):\n",
    "    np.clip(a=y_pred, a_min=1e-10, a_max=(1 - 1e-10), out=y_pred)\n",
    "    err = np.mean(- y * np.log(y_pred) - (1.0 - y) * np.log(1.0 - y_pred))\n",
    "    return err"
   ]
  },
  {
   "cell_type": "code",
   "execution_count": 233,
   "id": "2e407e3b",
   "metadata": {},
   "outputs": [
    {
     "data": {
      "text/plain": [
       "0.10536051565782628"
      ]
     },
     "execution_count": 233,
     "metadata": {},
     "output_type": "execute_result"
    }
   ],
   "source": [
    "# Пример применения\n",
    "y1 = np.array([1, 0])\n",
    "y_pred1 = np.array([0.9, 0.1])\n",
    "calc_logloss(y1, y_pred1)"
   ]
  },
  {
   "cell_type": "code",
   "execution_count": 234,
   "id": "d586acc1",
   "metadata": {},
   "outputs": [
    {
     "data": {
      "text/plain": [
       "23.025850888570275"
      ]
     },
     "execution_count": 234,
     "metadata": {},
     "output_type": "execute_result"
    }
   ],
   "source": [
    "y_true = np.array([0, 1])\n",
    "preds = np.array([1, 0], dtype='float64')\n",
    "calc_logloss(y_true, preds)"
   ]
  },
  {
   "cell_type": "code",
   "execution_count": 235,
   "id": "55c9617c",
   "metadata": {},
   "outputs": [
    {
     "data": {
      "text/plain": [
       "11.512925423650046"
      ]
     },
     "execution_count": 235,
     "metadata": {},
     "output_type": "execute_result"
    }
   ],
   "source": [
    "calc_logloss(np.array([0, 0]), np.array([0, 1], dtype='float64'))"
   ]
  },
  {
   "cell_type": "markdown",
   "id": "a0486f69",
   "metadata": {},
   "source": [
    "**Задача 2**\n",
    "\n",
    "На данных из урока изучите влияние гиперпараметров на ошибку алгоритма."
   ]
  },
  {
   "cell_type": "code",
   "execution_count": 236,
   "id": "96a795af",
   "metadata": {},
   "outputs": [],
   "source": [
    "def sigmoid(z):\n",
    "    res = 1 / (1 + np.exp(-z))\n",
    "    return res"
   ]
  },
  {
   "cell_type": "markdown",
   "id": "b78055a4",
   "metadata": {},
   "source": [
    "Logistic Regression"
   ]
  },
  {
   "cell_type": "code",
   "execution_count": 237,
   "id": "792e518e",
   "metadata": {},
   "outputs": [],
   "source": [
    "def eval_model(X, y, iterations, alpha=1e-4):\n",
    "    np.random.seed(42)\n",
    "    W = np.random.randn(X.shape[0])\n",
    "    n = X.shape[1]\n",
    "    for i in range(1, iterations+1):\n",
    "        z = np.dot(W, X)\n",
    "        y_pred = sigmoid(z)\n",
    "        err = calc_logloss(y, y_pred)\n",
    "        W -= alpha * (1/n * np.dot((y_pred - y), X.T))\n",
    "        if i % (iterations / 10) == 0:\n",
    "            print(i, W, err)\n",
    "    return W"
   ]
  },
  {
   "cell_type": "code",
   "execution_count": 238,
   "id": "37b16f14",
   "metadata": {},
   "outputs": [
    {
     "name": "stdout",
     "output_type": "stream",
     "text": [
      "500 [ 0.4953528  -0.15022151  0.63573133  1.51107264] 0.9605187009381438\n",
      "1000 [ 0.4938949  -0.16204804  0.6239048   1.49924612] 0.9520838140030554\n",
      "1500 [ 0.49234185 -0.17374272  0.61221011  1.48755143] 0.9438292640802555\n",
      "2000 [ 0.49069511 -0.18530445  0.60064839  1.47598971] 0.9357542442274172\n",
      "2500 [ 0.48895625 -0.19673216  0.58922068  1.464562  ] 0.9278578519174927\n",
      "3000 [ 0.4871269  -0.20802482  0.57792801  1.45326933] 0.9201390914525023\n",
      "3500 [ 0.48520879 -0.21918148  0.56677136  1.44211267] 0.9125968764926398\n",
      "4000 [ 0.48320372 -0.23020121  0.55575162  1.43109294] 0.9052300326754263\n",
      "4500 [ 0.48111355 -0.24108315  0.54486969  1.42021101] 0.8980373003001537\n",
      "5000 [ 0.47894023 -0.25182646  0.53412637  1.40946769] 0.891017337053766\n"
     ]
    }
   ],
   "source": [
    "W = eval_model(X_st, y, iterations=5000, alpha=1e-4)"
   ]
  },
  {
   "cell_type": "code",
   "execution_count": 239,
   "id": "05ec4331",
   "metadata": {},
   "outputs": [],
   "source": [
    "#проверим эти параметры\n",
    "alphas = [1e-2, 1e-3, 1e-4]\n",
    "iterations = [1e3, 1e4, 1e5]"
   ]
  },
  {
   "cell_type": "code",
   "execution_count": 240,
   "id": "c24f47ae",
   "metadata": {},
   "outputs": [],
   "source": [
    "#напишем функцию для проверки параметров\n",
    "def eval_model_test(X, y, iterations, alpha=1e-4):\n",
    "    model_dict = {}\n",
    "    np.random.seed(42)\n",
    "    errs = []\n",
    "    W = np.random.randn(X.shape[0])\n",
    "    n = X.shape[1]\n",
    "    for i in range(1, iterations+1):\n",
    "        z = np.dot(W, X)\n",
    "        y_pred = sigmoid(z)\n",
    "        err = calc_logloss(y, y_pred)\n",
    "        errs.append(err)\n",
    "        W -= alpha * (1/n * np.dot((y_pred - y), X.T))\n",
    "        if i % (iterations / 10) == 0:\n",
    "            print(i, W, err)\n",
    "    model_dict = {'alpha':  alpha, \n",
    "                 'iterations': iterations,\n",
    "                 'error':  err}\n",
    "    erros_dict = {f'alpha = {alpha}, iterations = {iterations}': errs}\n",
    "    \n",
    "    return W, model_dict, erros_dict"
   ]
  },
  {
   "cell_type": "code",
   "execution_count": 241,
   "id": "c974c404",
   "metadata": {},
   "outputs": [
    {
     "name": "stdout",
     "output_type": "stream",
     "text": [
      "100 [ 0.45322969 -0.35172665  0.43422619  1.30956751] 0.8309022784598661\n",
      "200 [ 0.38668772 -0.50817028  0.27778256  1.15312387] 0.751826594923962\n",
      "300 [ 0.31555473 -0.61070823  0.17524461  1.05058593] 0.7143824848567445\n",
      "400 [ 0.25159549 -0.67106314  0.1148897   0.99023102] 0.698947351863089\n",
      "500 [ 0.19853263 -0.70396159  0.08199125  0.95733256] 0.6927255733939008\n",
      "600 [ 0.15597286 -0.72114158  0.06481126  0.94015258] 0.6899731836925931\n",
      "700 [ 0.12231197 -0.72993627  0.05601657  0.93135788] 0.6885874573832071\n",
      "800 [ 0.09585288 -0.73441014  0.0515427   0.92688402] 0.687818429373992\n",
      "900 [ 0.07511571 -0.73669196  0.04926088  0.9246022 ] 0.6873683061733192\n",
      "1000 [ 0.05888733 -0.73786725  0.04808559  0.92342691] 0.6870983118709307\n",
      "1000 [ 0.05888733 -0.73786725  0.04808559  0.92342691] 0.6870983118709307\n",
      "2000 [ 0.00576909 -0.73927409  0.04667875  0.92202007] 0.6866824351210682\n",
      "3000 [ 0.0012744  -0.73930197  0.04665086  0.92199218] 0.6866794674946131\n",
      "4000 [ 8.94369494e-04 -7.39304167e-01  4.66486722e-02  9.21989991e-01] 0.6866794462791893\n",
      "5000 [ 8.62237495e-04 -7.39304352e-01  4.66484877e-02  9.21989806e-01] 0.6866794461275254\n",
      "6000 [ 8.59520728e-04 -7.39304367e-01  4.66484721e-02  9.21989790e-01] 0.6866794461264414\n",
      "7000 [ 8.59291025e-04 -7.39304369e-01  4.66484708e-02  9.21989789e-01] 0.6866794461264335\n",
      "8000 [ 8.59271603e-04 -7.39304369e-01  4.66484707e-02  9.21989789e-01] 0.6866794461264335\n",
      "9000 [ 8.59269961e-04 -7.39304369e-01  4.66484706e-02  9.21989789e-01] 0.6866794461264334\n",
      "10000 [ 8.59269822e-04 -7.39304369e-01  4.66484706e-02  9.21989789e-01] 0.6866794461264334\n",
      "10000 [ 8.59269822e-04 -7.39304369e-01  4.66484706e-02  9.21989789e-01] 0.6866794461264334\n",
      "20000 [ 8.59269810e-04 -7.39304369e-01  4.66484706e-02  9.21989789e-01] 0.6866794461264335\n",
      "30000 [ 8.59269810e-04 -7.39304369e-01  4.66484706e-02  9.21989789e-01] 0.6866794461264335\n",
      "40000 [ 8.59269810e-04 -7.39304369e-01  4.66484706e-02  9.21989789e-01] 0.6866794461264335\n",
      "50000 [ 8.59269810e-04 -7.39304369e-01  4.66484706e-02  9.21989789e-01] 0.6866794461264335\n",
      "60000 [ 8.59269810e-04 -7.39304369e-01  4.66484706e-02  9.21989789e-01] 0.6866794461264335\n",
      "70000 [ 8.59269810e-04 -7.39304369e-01  4.66484706e-02  9.21989789e-01] 0.6866794461264335\n",
      "80000 [ 8.59269810e-04 -7.39304369e-01  4.66484706e-02  9.21989789e-01] 0.6866794461264335\n",
      "90000 [ 8.59269810e-04 -7.39304369e-01  4.66484706e-02  9.21989789e-01] 0.6866794461264335\n",
      "100000 [ 8.59269810e-04 -7.39304369e-01  4.66484706e-02  9.21989789e-01] 0.6866794461264335\n",
      "100 [ 0.4938966  -0.16205036  0.62390248  1.4992438 ] 0.9522324749484936\n",
      "200 [ 0.4906984  -0.18530907  0.60064377  1.47598509] 0.9358949548352031\n",
      "300 [ 0.48713165 -0.2080317   0.57792113  1.45326245] 0.9202720230246271\n",
      "400 [ 0.48320979 -0.23021032  0.55574252  1.43108384] 0.9053553717662876\n",
      "500 [ 0.47894749 -0.25183775  0.53411509  1.40945641] 0.891135283908325\n",
      "600 [ 0.47436059 -0.27290764  0.5130452   1.38838652] 0.8776007191032342\n",
      "700 [ 0.46946596 -0.29341444  0.4925384   1.36787972] 0.8647394013411391\n",
      "800 [ 0.4642814  -0.31335345  0.47259939  1.34794071] 0.8525379052990575\n",
      "900 [ 0.4588255  -0.33272081  0.45323203  1.32857335] 0.8409817395817918\n",
      "1000 [ 0.45311753 -0.35151351  0.43443933  1.30978065] 0.8300554256322981\n",
      "1000 [ 0.45311753 -0.35151351  0.43443933  1.30978065] 0.8300554256322981\n",
      "2000 [ 0.38658682 -0.50782161  0.27813123  1.15347255] 0.7514625337053509\n",
      "3000 [ 0.3155264  -0.61033151  0.17562133  1.05096265] 0.7142582168640573\n",
      "4000 [ 0.25163784 -0.67074336  0.11520948  0.9905508 ] 0.698908156682089\n",
      "5000 [ 0.198622   -0.70372925  0.08222358  0.9575649 ] 0.6927108606682111\n",
      "6000 [ 0.15608734 -0.72098851  0.06496433  0.94030565] 0.689966221745998\n",
      "7000 [ 0.12243609 -0.72984149  0.05611135  0.93145267] 0.6885838823209145\n",
      "8000 [ 0.09597669 -0.73435375  0.05159909  0.92694041] 0.6878166642538035\n",
      "9000 [ 0.07523325 -0.73665926  0.04929358  0.9246349 ] 0.6873675263347936\n",
      "10000 [ 0.05899532 -0.73784858  0.04810426  0.92344558] 0.6870980388118556\n",
      "10000 [ 0.05899532 -0.73784858  0.04810426  0.92344558] 0.6870980388118556\n",
      "20000 [ 0.00579177 -0.73927391  0.04667893  0.92202024] 0.6866824494232034\n",
      "30000 [ 0.00127747 -0.73930196  0.04665088  0.9219922 ] 0.6866794677150336\n",
      "40000 [ 8.94725776e-04 -7.39304165e-01  4.66486743e-02  9.21989993e-01] 0.6866794462816146\n",
      "50000 [ 8.62275858e-04 -7.39304351e-01  4.66484879e-02  9.21989806e-01] 0.6866794461275489\n",
      "60000 [ 8.59524670e-04 -7.39304367e-01  4.66484721e-02  9.21989790e-01] 0.6866794461264415\n",
      "70000 [ 8.59291417e-04 -7.39304369e-01  4.66484708e-02  9.21989789e-01] 0.6866794461264336\n",
      "80000 [ 8.59271642e-04 -7.39304369e-01  4.66484707e-02  9.21989789e-01] 0.6866794461264335\n",
      "90000 [ 8.59269965e-04 -7.39304369e-01  4.66484706e-02  9.21989789e-01] 0.6866794461264336\n",
      "100000 [ 8.59269823e-04 -7.39304369e-01  4.66484706e-02  9.21989789e-01] 0.6866794461264335\n",
      "100 [ 0.49644967 -0.14066614  0.6452867   1.52062802] 0.9673969329826173\n",
      "200 [ 0.49618128 -0.14306279  0.64289005  1.51823137] 0.9656664939795263\n",
      "300 [ 0.495909   -0.14545424  0.6404986   1.51583991] 0.9639433122478239\n",
      "400 [ 0.49563284 -0.14784049  0.63811235  1.51345367] 0.9622273829127177\n",
      "500 [ 0.4953528  -0.15022151  0.63573133  1.51107264] 0.9605187009381438\n",
      "600 [ 0.4950689  -0.15259731  0.63335553  1.50869685] 0.9588172611274113\n",
      "700 [ 0.49478115 -0.15496787  0.63098497  1.50632629] 0.9571230581238312\n",
      "800 [ 0.49448956 -0.15733319  0.62861965  1.50396097] 0.9554360864113812\n",
      "900 [ 0.49419414 -0.15969325  0.62625959  1.50160091] 0.9537563403153569\n",
      "1000 [ 0.4938949  -0.16204804  0.6239048   1.49924612] 0.9520838140030554\n",
      "1000 [ 0.4938949  -0.16204804  0.6239048   1.49924612] 0.9520838140030554\n",
      "2000 [ 0.49069511 -0.18530445  0.60064839  1.47598971] 0.9357542442274172\n",
      "3000 [ 0.4871269  -0.20802482  0.57792801  1.45326933] 0.9201390914525023\n",
      "4000 [ 0.48320372 -0.23020121  0.55575162  1.43109294] 0.9052300326754263\n",
      "5000 [ 0.47894023 -0.25182646  0.53412637  1.40946769] 0.891017337053766\n",
      "6000 [ 0.47435227 -0.27289422  0.51305862  1.38839993] 0.8774899521006467\n",
      "7000 [ 0.46945672 -0.29339896  0.49255388  1.3678952 ] 0.8646355911721996\n",
      "8000 [ 0.46427138 -0.31333596  0.47261688  1.34795819] 0.8524408197444293\n",
      "9000 [ 0.45881483 -0.33270138  0.45325145  1.32859277] 0.8408911385649368\n",
      "10000 [ 0.45310635 -0.35149222  0.43446062  1.30980194] 0.8299710624674959\n",
      "10000 [ 0.45310635 -0.35149222  0.43446062  1.30980194] 0.8299710624674959\n",
      "20000 [ 0.38657677 -0.5077868   0.27816604  1.15350736] 0.7514262843782407\n",
      "30000 [ 0.31552359 -0.61029389  0.17565895  1.05100027] 0.7142458407330761\n",
      "40000 [ 0.25164208 -0.6707114   0.11524143  0.99058275] 0.6989042495626515\n",
      "50000 [ 0.19863094 -0.70370602  0.08224682  0.95758814] 0.6927093935546292\n",
      "60000 [ 0.15609878 -0.72097319  0.06497965  0.94032097] 0.68996552773576\n",
      "70000 [ 0.12244849 -0.72983199  0.05612085  0.93146217] 0.6885835259657666\n",
      "80000 [ 0.09598906 -0.73434809  0.05160475  0.92694607] 0.6878164882608688\n",
      "90000 [ 0.07524499 -0.73665597  0.04929687  0.92463819] 0.6873674485411996\n",
      "100000 [ 0.05900612 -0.7378467   0.04810614  0.92344746] 0.6870980115519545\n"
     ]
    }
   ],
   "source": [
    "result_list = []\n",
    "errors_list = []\n",
    "for i in alphas:\n",
    "    for j in iterations:\n",
    "        name = f'{alpha} + {iterations}'\n",
    "        _, name, errors = eval_model_test(X_st, y, iterations=int(j), alpha=i)\n",
    "        result_list.append(name)\n",
    "        errors_list.append(errors)"
   ]
  },
  {
   "cell_type": "code",
   "execution_count": 242,
   "id": "e1fac7be",
   "metadata": {},
   "outputs": [],
   "source": [
    "from pprint import pprint"
   ]
  },
  {
   "cell_type": "code",
   "execution_count": 243,
   "id": "bfbf359c",
   "metadata": {},
   "outputs": [
    {
     "name": "stdout",
     "output_type": "stream",
     "text": [
      "[{'alpha': 0.01, 'error': 0.6870983118709307, 'iterations': 1000},\n",
      " {'alpha': 0.01, 'error': 0.6866794461264334, 'iterations': 10000},\n",
      " {'alpha': 0.01, 'error': 0.6866794461264335, 'iterations': 100000},\n",
      " {'alpha': 0.001, 'error': 0.8300554256322981, 'iterations': 1000},\n",
      " {'alpha': 0.001, 'error': 0.6870980388118556, 'iterations': 10000},\n",
      " {'alpha': 0.001, 'error': 0.6866794461264335, 'iterations': 100000},\n",
      " {'alpha': 0.0001, 'error': 0.9520838140030554, 'iterations': 1000},\n",
      " {'alpha': 0.0001, 'error': 0.8299710624674959, 'iterations': 10000},\n",
      " {'alpha': 0.0001, 'error': 0.6870980115519545, 'iterations': 100000}]\n"
     ]
    }
   ],
   "source": [
    "pprint(result_list)"
   ]
  },
  {
   "cell_type": "code",
   "execution_count": 244,
   "id": "2d46753f",
   "metadata": {},
   "outputs": [
    {
     "name": "stdout",
     "output_type": "stream",
     "text": [
      "Среди исследуемых параметров alphas = [0.01, 0.001, 0.0001], iterations = [1000.0, 10000.0, 100000.0]\n",
      "Лучшие параметры:\n",
      "{'alpha': 0.01, 'iterations': 10000, 'error': 0.6866794461264334}\n"
     ]
    }
   ],
   "source": [
    "best_params = 0\n",
    "best_err = np.inf\n",
    "for i in result_list:\n",
    "    if i['error'] < best_err:\n",
    "        best_err = i['error']\n",
    "        best_param = i\n",
    "print(f'Среди исследуемых параметров alphas = {alphas}, iterations = {iterations}')\n",
    "print('Лучшие параметры:')\n",
    "print(best_param)"
   ]
  },
  {
   "cell_type": "code",
   "execution_count": 245,
   "id": "a4926850",
   "metadata": {},
   "outputs": [
    {
     "name": "stdout",
     "output_type": "stream",
     "text": [
      "dict_keys(['alpha = 0.01, iterations = 1000'])\n",
      "dict_keys(['alpha = 0.01, iterations = 10000'])\n",
      "dict_keys(['alpha = 0.01, iterations = 100000'])\n",
      "dict_keys(['alpha = 0.001, iterations = 1000'])\n",
      "dict_keys(['alpha = 0.001, iterations = 10000'])\n",
      "dict_keys(['alpha = 0.001, iterations = 100000'])\n",
      "dict_keys(['alpha = 0.0001, iterations = 1000'])\n",
      "dict_keys(['alpha = 0.0001, iterations = 10000'])\n",
      "dict_keys(['alpha = 0.0001, iterations = 100000'])\n"
     ]
    }
   ],
   "source": [
    "for i in errors_list:\n",
    "    print(i.keys())"
   ]
  },
  {
   "cell_type": "code",
   "execution_count": 256,
   "id": "32230c13",
   "metadata": {},
   "outputs": [
    {
     "data": {
      "text/plain": [
       "<matplotlib.legend.Legend at 0x27707230910>"
      ]
     },
     "execution_count": 256,
     "metadata": {},
     "output_type": "execute_result"
    },
    {
     "data": {
      "image/png": "[encoded data removed]",
      "text/plain": [
       "<Figure size 1152x576 with 1 Axes>"
      ]
     },
     "metadata": {
      "needs_background": "light"
     },
     "output_type": "display_data"
    }
   ],
   "source": [
    "# Визуализируем изменение функционала ошибки\n",
    "plt.figure(figsize= (16, 8))\n",
    "for i in range(2, len(errors_list), 3):\n",
    "    obj = errors_list[i]\n",
    "    value = list(obj.values())[0]\n",
    "    key = list(obj.keys())[0]\n",
    "    plt.plot(range(len(value)), value, label = key)\n",
    "plt.title('LogLoss change')\n",
    "plt.xlabel('Iteration number')\n",
    "plt.ylabel('LogLoss')\n",
    "plt.legend(loc='upper right')"
   ]
  },
  {
   "cell_type": "markdown",
   "id": "8325b4a7",
   "metadata": {},
   "source": [
    "**Выводы**\n",
    "\n",
    "Изучили влияние параметров - скорости обучения и количетсва итераций на ошибку алгоритма. Чем больше скорость обучения, тем быстрее уменьшается ошибка (также есть риск пропустить минимум, как и в линейной регрессии, так как с основе лежит тот же подход).\n",
    "Чем больше количество итераций, тем точнее можно найти минимальную ошибку. Зависимость между параметрами та же, что и в линейной регрессии, чем больше скорость обучения, тем менбше итераций. "
   ]
  },
  {
   "cell_type": "markdown",
   "id": "2d9b08c7",
   "metadata": {},
   "source": [
    "**Задача 3**\n",
    "\n",
    "Создайте функцию calc_pred_proba, возвращающую предсказанную вероятность класса \"1\". На вход функции подаются значения признаков Х и веса, которые уже посчитаны функцией eval_LR_model."
   ]
  },
  {
   "cell_type": "code",
   "execution_count": 259,
   "id": "871acc9e",
   "metadata": {},
   "outputs": [],
   "source": [
    "def calc_pred_proba(X, W):\n",
    "    z = np.dot(W, X)\n",
    "    #return 1 / (1 + np.exp(-z))\n",
    "    return sigmoid(z)"
   ]
  },
  {
   "cell_type": "code",
   "execution_count": 260,
   "id": "7e70269f",
   "metadata": {},
   "outputs": [
    {
     "name": "stdout",
     "output_type": "stream",
     "text": [
      "10 [ 0.49668788 -0.13850472  0.64744812  1.52278944] 0.9689605369510218\n",
      "20 [ 0.49666157 -0.13874508  0.64720776  1.52254907] 0.9687865125930293\n",
      "30 [ 0.49663522 -0.1389854   0.64696744  1.52230876] 0.9686125608915482\n",
      "40 [ 0.49660883 -0.13922566  0.64672718  1.5220685 ] 0.9684386818420672\n",
      "50 [ 0.4965824  -0.13946587  0.64648697  1.52182829] 0.9682648754400607\n",
      "60 [ 0.49655593 -0.13970603  0.64624681  1.52158813] 0.9680911416809893\n",
      "70 [ 0.49652942 -0.13994613  0.64600671  1.52134802] 0.9679174805602919\n",
      "80 [ 0.49650288 -0.14018619  0.64576665  1.52110797] 0.967743892073394\n",
      "90 [ 0.49647629 -0.14042619  0.64552665  1.52086797] 0.9675703762157056\n",
      "100 [ 0.49644967 -0.14066614  0.6452867   1.52062802] 0.9673969329826173\n"
     ]
    },
    {
     "data": {
      "text/plain": [
       "array([ 0.49644967, -0.14066614,  0.6452867 ,  1.52062802])"
      ]
     },
     "execution_count": 260,
     "metadata": {},
     "output_type": "execute_result"
    }
   ],
   "source": [
    "W = eval_model(X_st, y, iterations=100)\n",
    "W"
   ]
  },
  {
   "cell_type": "code",
   "execution_count": 270,
   "id": "8df8999d",
   "metadata": {},
   "outputs": [
    {
     "name": "stdout",
     "output_type": "stream",
     "text": [
      "[0.18430283 0.34250941 0.3909553  0.25544167 0.92275363 0.44165069\n",
      " 0.93638606 0.99165344 0.15494967 0.64585444]\n"
     ]
    }
   ],
   "source": [
    "print(calc_pred_proba(X_st, W))"
   ]
  },
  {
   "cell_type": "markdown",
   "id": "9652926a",
   "metadata": {},
   "source": [
    "**Задача 4**\n",
    "\n",
    "Создайте функцию calc_pred, возвращающую предсказанные классы (0 или 1). На вход функции подаются значения признаков Х и веса, которые уже посчитаны функцией eval_LR_model, а также порог вероятности."
   ]
  },
  {
   "cell_type": "code",
   "execution_count": 289,
   "id": "11c353c2",
   "metadata": {},
   "outputs": [],
   "source": [
    "def calc_pred(X, W, threshold=0.5):\n",
    "    return np.where(sigmoid(np.dot(W, X)) > 0.5, 1, 0)  "
   ]
  },
  {
   "cell_type": "code",
   "execution_count": 290,
   "id": "24746767",
   "metadata": {},
   "outputs": [
    {
     "name": "stdout",
     "output_type": "stream",
     "text": [
      "[0 0 0 0 1 0 1 1 0 1]\n"
     ]
    }
   ],
   "source": [
    "print(calc_pred(X_st, W))"
   ]
  }
 ],
 "metadata": {
  "kernelspec": {
   "display_name": "Python 3 (ipykernel)",
   "language": "python",
   "name": "python3"
  },
  "language_info": {
   "codemirror_mode": {
    "name": "ipython",
    "version": 3
   },
   "file_extension": ".py",
   "mimetype": "text/x-python",
   "name": "python",
   "nbconvert_exporter": "python",
   "pygments_lexer": "ipython3",
   "version": "3.9.7"
  }
 },
 "nbformat": 4,
 "nbformat_minor": 5
}
