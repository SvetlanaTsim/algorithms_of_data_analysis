{
 "cells": [
  {
   "cell_type": "markdown",
   "id": "6ee12e37",
   "metadata": {},
   "source": [
    "### Урок 4. Деревья решений"
   ]
  },
  {
   "cell_type": "markdown",
   "id": "df2c0ee3",
   "metadata": {},
   "source": [
    "**Задача 3**\n",
    "\n",
    "(\\*) Реализуйте дерево для задачи регрессии. Возьмите за основу дерево, реализованное в методичке, заменив механизм предсказания в листе на взятие среднего значения по выборке, а критерий Джини на дисперсию значений. Проверьте точность предсказания дерева на одной из метрик задачи регрессии."
   ]
  },
  {
   "cell_type": "code",
   "execution_count": 2,
   "id": "7e4aa390",
   "metadata": {},
   "outputs": [],
   "source": [
    "import matplotlib.pyplot as plt\n",
    "import random\n",
    "\n",
    "from matplotlib.colors import ListedColormap\n",
    "from sklearn import datasets\n",
    "from sklearn.model_selection import train_test_split\n",
    "\n",
    "import numpy as np"
   ]
  },
  {
   "cell_type": "code",
   "execution_count": 3,
   "id": "f134f86b",
   "metadata": {},
   "outputs": [],
   "source": [
    "# Реализуем класс узла\n",
    "\n",
    "class Node:\n",
    "    \n",
    "    def __init__(self, index, t, true_branch, false_branch):\n",
    "        self.index = index  # индекс признака, по которому ведется сравнение с порогом в этом узле\n",
    "        self.t = t  # значение порога\n",
    "        self.true_branch = true_branch  # поддерево, удовлетворяющее условию в узле\n",
    "        self.false_branch = false_branch  # поддерево, не удовлетворяющее условию в узле"
   ]
  },
  {
   "cell_type": "code",
   "execution_count": 4,
   "id": "99631ac6",
   "metadata": {},
   "outputs": [],
   "source": [
    "# И класс терминального узла (листа)\n",
    "\n",
    "class Leaf:\n",
    "    \n",
    "    def __init__(self, data, labels):\n",
    "        self.data = data\n",
    "        self.labels = labels\n",
    "        self.prediction = self.predict()\n",
    "        \n",
    "    def predict(self):\n",
    "        return np.mean(self.labels) "
   ]
  },
  {
   "cell_type": "code",
   "execution_count": 5,
   "id": "863c9919",
   "metadata": {},
   "outputs": [],
   "source": [
    "# Цвета для дальнейшей раскраски хода дерева\n",
    "\n",
    "class ColorText:\n",
    "    PURPLE = '\\033[1;35;48m'\n",
    "    CYAN = '\\033[1;36;48m'\n",
    "    BOLD = '\\033[1;39;48m'\n",
    "    GREEN = '\\033[1;34;48m'\n",
    "    BLUE = '\\033[1;44;48m'\n",
    "    ORANGE = '\\033[1;32;48m'\n",
    "    YELLOW = '\\033[1;33;48m'\n",
    "    RED = '\\033[1;31;48m'\n",
    "    BLACK = '\\033[1;30;48m'\n",
    "    UNDERLINE = '\\033[1;37;48m'\n",
    "    END = '\\033[1;37;0m'"
   ]
  },
  {
   "cell_type": "code",
   "execution_count": 6,
   "id": "0cace0f9",
   "metadata": {},
   "outputs": [],
   "source": [
    "# Переделаем код из методички в класс ООП\n",
    "\n",
    "# Реализуем класс дерева\n",
    "class Tree:\n",
    "    \n",
    "    def __init__(self, min_leaf=None, max_depth=None, max_leaves=None):\n",
    "        self.min_leaf = min_leaf # минимальное количество объектов в листе\n",
    "        self.max_depth = max_depth  # максимальная глубина дерева\n",
    "        self.max_leaves = max_leaves  # максимальное количество листьев\n",
    "        self.nodes = 0 # построено узлов\n",
    "        self.leaves = 0 # построено листьев\n",
    "    \n",
    "    # Расчет дисперсии\n",
    "    def dispersion(self, labels):\n",
    "        return np.var(labels)\n",
    "    \n",
    "    # Расчет качества\n",
    "    def quality(self, left_labels, right_labels, current_dispersion):\n",
    "\n",
    "        # доля выбоки, ушедшая в левое поддерево\n",
    "        p = float(left_labels.shape[0]) / (left_labels.shape[0] + right_labels.shape[0])\n",
    "\n",
    "        return current_dispersion - p * self.dispersion(left_labels) - (1 - p) * self.dispersion(right_labels)\n",
    "    \n",
    "    \n",
    "    # Разбиение датасета в узле\n",
    "    def split(self, data, labels, index, t):\n",
    "\n",
    "        left = np.where(data[:, index] <= t)\n",
    "        right = np.where(data[:, index] > t)\n",
    "\n",
    "        true_data = data[left]\n",
    "        false_data = data[right]\n",
    "        true_labels = labels[left]\n",
    "        false_labels = labels[right]\n",
    "\n",
    "        return true_data, false_data, true_labels, false_labels\n",
    "    \n",
    "    \n",
    "    # Нахождение наилучшего разбиения\n",
    "    def find_best_split(self, data, labels):\n",
    "\n",
    "        current_dispersion = self.dispersion(labels)\n",
    "\n",
    "        best_quality = 0\n",
    "        best_t = None\n",
    "        best_index = None\n",
    "\n",
    "        n_features = data.shape[1]\n",
    "\n",
    "        for index in range(n_features):\n",
    "            # будем проверять только уникальные значения признака, исключая повторения\n",
    "            t_values = np.unique([row[index] for row in data])\n",
    "\n",
    "            for t in t_values:\n",
    "                true_data, false_data, true_labels, false_labels = self.split(data, labels, index, t)\n",
    "                #  пропускаем разбиения, в которых в узле остается менее минимального количества (min_leaf)\n",
    "                if self.min_leaf:\n",
    "                    if len(true_data) < self.min_leaf or len(false_data) < self.min_leaf:\n",
    "                        continue\n",
    "\n",
    "                current_quality = self.quality(true_labels, false_labels, current_dispersion)\n",
    "\n",
    "                #  выбираем порог, на котором получается максимальный прирост качества\n",
    "                if current_quality > best_quality:\n",
    "                    best_quality, best_t, best_index = current_quality, t, index\n",
    "\n",
    "        return best_quality, best_t, best_index\n",
    "    \n",
    "     \n",
    "    # Построение дерева с помощью рекурсивной функции\n",
    "    def build_tree(self, data, labels):\n",
    "\n",
    "        quality, t, index = self.find_best_split(data, labels)\n",
    "\n",
    "        #  Базовый случай - прекращаем рекурсию, когда нет прироста в качества или срабатывают критерии остановы\n",
    "        condition = None\n",
    "        if self.max_depth and self.max_leaves:\n",
    "            condition = (quality == 0) or (self.nodes >= self.max_depth) or (self.nodes >= self.max_leaves-1)\n",
    "        elif self.max_depth: \n",
    "            condition = (quality == 0) or (self.nodes >= self.max_depth)\n",
    "        elif self.max_leaves:\n",
    "            condition = (quality == 0) or (self.nodes >= self.max_leaves-1)\n",
    "        else: \n",
    "            condition = (quality == 0)\n",
    "        if condition:\n",
    "            self.leaves +=1\n",
    "            return Leaf(data, labels)\n",
    "        \n",
    "        true_data, false_data, true_labels, false_labels = self.split(data, labels, index, t)\n",
    "        self.nodes += 1\n",
    "            \n",
    "\n",
    "        # Рекурсивно строим два поддерева\n",
    "        true_branch = self.build_tree(true_data, true_labels)\n",
    "        false_branch = self.build_tree(false_data, false_labels)\n",
    "\n",
    "        # Возвращаем класс узла со всеми поддеревьями, то есть целого дерева\n",
    "        return Node(index, t, true_branch, false_branch)\n",
    "    \n",
    "        \n",
    "    def classify_object(self, obj, node):\n",
    "        \n",
    "        #  Останавливаем рекурсию, если достигли листа\n",
    "        if isinstance(node, Leaf):\n",
    "            answer = node.prediction\n",
    "            return answer\n",
    "\n",
    "        if obj[node.index] <= node.t:\n",
    "            return self.classify_object(obj, node.true_branch)\n",
    "        else:\n",
    "            return self.classify_object(obj, node.false_branch)\n",
    "    \n",
    "    def predict(self, data, tree):  \n",
    "        \n",
    "        classes = []\n",
    "        for obj in data:\n",
    "            prediction = self.classify_object(obj, tree)\n",
    "            classes.append(prediction)\n",
    "        return classes\n",
    "    \n",
    "    \n",
    "    # Напечатаем ход нашего дерева\n",
    "    def print_tree(self, node, spacing=\"\"):  \n",
    "\n",
    "        # Если лист, то выводим его прогноз\n",
    "        if isinstance(node, Leaf):\n",
    "            print(ColorText.ORANGE + spacing + ' ЛИСТ' \n",
    "                      + ': прогноз = ' + str(node.prediction) \n",
    "                      + ', объектов = ' + str(len(node.labels)) \n",
    "                      + ColorText.END)\n",
    "            return\n",
    "\n",
    "        # Выведем значение индекса и порога на этом узле\n",
    "        print(ColorText.GREEN + spacing + 'УЗЕЛ'  \n",
    "                  + ': индекс = ' + str(node.index) \n",
    "                  + ', порог = ' + str(round(node.t, 2))\n",
    "                  + ColorText.END)\n",
    "\n",
    "        # Рекурсионный вызов функции на положительном поддереве\n",
    "        print (spacing + '--> Левая ветка:')\n",
    "        self.print_tree(node.true_branch, spacing + \"   \")\n",
    "\n",
    "        # Рекурсионный вызов функции на положительном поддереве\n",
    "        print (spacing + '--> Правая ветка:')\n",
    "        self.print_tree(node.false_branch, spacing + \"   \")"
   ]
  },
  {
   "cell_type": "code",
   "execution_count": 7,
   "id": "0a2bc68c",
   "metadata": {},
   "outputs": [
    {
     "data": {
      "image/png": "[encoded data removed]",
      "text/plain": [
       "<Figure size 432x432 with 1 Axes>"
      ]
     },
     "metadata": {
      "needs_background": "light"
     },
     "output_type": "display_data"
    }
   ],
   "source": [
    "# сгенерируем данные\n",
    "from sklearn import datasets\n",
    "\n",
    "regression_data, regression_labels = datasets.make_regression(n_samples=100, \n",
    "                                                      n_features=1, noise=10,\n",
    "                                                      random_state=42)\n",
    "plt.figure(figsize=(6,6))\n",
    "plt.scatter(regression_data, regression_labels, c='darkorange', edgecolor='black', s=70);"
   ]
  },
  {
   "cell_type": "code",
   "execution_count": 18,
   "id": "98d622e0",
   "metadata": {},
   "outputs": [],
   "source": [
    "# Разобьем выборку на обучающую и тестовую\n",
    "\n",
    "from sklearn.model_selection import train_test_split\n",
    "\n",
    "train_data, test_data, train_labels, test_labels = train_test_split(regression_data, \n",
    "                                                                    regression_labels, \n",
    "                                                                    test_size = 0.3,\n",
    "                                                                    random_state = 1)"
   ]
  },
  {
   "cell_type": "code",
   "execution_count": 19,
   "id": "45b993a8",
   "metadata": {},
   "outputs": [],
   "source": [
    "#Создадим и обучим модель на тренировочных данных\n",
    "tree_model = Tree(min_leaf=5, max_depth=3)\n",
    "#tree_model = Tree(max_leaves=4)\n",
    "\n",
    "my_tree = tree_model.build_tree(train_data, train_labels)\n"
   ]
  },
  {
   "cell_type": "code",
   "execution_count": 20,
   "id": "7e5ffcff",
   "metadata": {},
   "outputs": [
    {
     "name": "stdout",
     "output_type": "stream",
     "text": [
      "\u001b[1;34;48mУЗЕЛ: индекс = 0, порог = 0.09\u001b[1;37;0m\n",
      "--> Левая ветка:\n",
      "\u001b[1;34;48m   УЗЕЛ: индекс = 0, порог = -1.15\u001b[1;37;0m\n",
      "   --> Левая ветка:\n",
      "\u001b[1;34;48m      УЗЕЛ: индекс = 0, порог = -1.48\u001b[1;37;0m\n",
      "      --> Левая ветка:\n",
      "\u001b[1;32;48m          ЛИСТ: прогноз = -79.83830483283232, объектов = 5\u001b[1;37;0m\n",
      "      --> Правая ветка:\n",
      "\u001b[1;32;48m          ЛИСТ: прогноз = -60.95922383468576, объектов = 6\u001b[1;37;0m\n",
      "   --> Правая ветка:\n",
      "\u001b[1;32;48m       ЛИСТ: прогноз = -18.219302134821252, объектов = 29\u001b[1;37;0m\n",
      "--> Правая ветка:\n",
      "\u001b[1;32;48m    ЛИСТ: прогноз = 36.503080089657495, объектов = 30\u001b[1;37;0m\n"
     ]
    }
   ],
   "source": [
    "#Напечатаем дерево\n",
    "\n",
    "tree_model.print_tree(my_tree)"
   ]
  },
  {
   "cell_type": "code",
   "execution_count": 22,
   "id": "a4a5733c",
   "metadata": {},
   "outputs": [],
   "source": [
    "#Получим ответы для обучающей выборки \n",
    "train_answers = tree_model.predict(train_data, my_tree)"
   ]
  },
  {
   "cell_type": "code",
   "execution_count": 23,
   "id": "bb5fb28d",
   "metadata": {},
   "outputs": [],
   "source": [
    "# И получим ответы для тестовой выборки\n",
    "answers = tree_model.predict(test_data, my_tree)"
   ]
  },
  {
   "cell_type": "code",
   "execution_count": 24,
   "id": "0219fccc",
   "metadata": {},
   "outputs": [],
   "source": [
    "# Введем функцию подсчета ошибки MSE\n",
    "def calc_mse(y, y_pred):\n",
    "    err = np.mean((y - y_pred)**2) # <=> 1/n * np.sum((y_pred - y)**2)\n",
    "    return err"
   ]
  },
  {
   "cell_type": "code",
   "execution_count": 38,
   "id": "234a05b1",
   "metadata": {},
   "outputs": [],
   "source": [
    "# Введем функцию подсчета ошибки r^2\n",
    "def r2_score(y, y_hat):\n",
    "    return 1 - np.sum((y - y_hat)**2)/np.sum((y - y.mean())**2)"
   ]
  },
  {
   "cell_type": "code",
   "execution_count": 25,
   "id": "d671bfa2",
   "metadata": {},
   "outputs": [
    {
     "data": {
      "text/plain": [
       "364.28222383949276"
      ]
     },
     "execution_count": 25,
     "metadata": {},
     "output_type": "execute_result"
    }
   ],
   "source": [
    "#Ошибка на обучающей выборке\n",
    "train_mse = calc_mse(train_labels, train_answers)\n",
    "train_mse"
   ]
  },
  {
   "cell_type": "code",
   "execution_count": 40,
   "id": "d3e0f1ae",
   "metadata": {},
   "outputs": [
    {
     "data": {
      "text/plain": [
       "0.801875958726322"
      ]
     },
     "execution_count": 40,
     "metadata": {},
     "output_type": "execute_result"
    }
   ],
   "source": [
    "#r^2 на обучающей выборке\n",
    "train_r2_score = r2_score(train_labels, train_answers)\n",
    "train_r2_score"
   ]
  },
  {
   "cell_type": "code",
   "execution_count": 27,
   "id": "5171e60f",
   "metadata": {},
   "outputs": [
    {
     "data": {
      "text/plain": [
       "431.2863467385858"
      ]
     },
     "execution_count": 27,
     "metadata": {},
     "output_type": "execute_result"
    }
   ],
   "source": [
    "#Ошибка на тестовой выборке_mse = calc_mse(train_labels, train_answers)\n",
    "test_mse = calc_mse(test_labels, answers)\n",
    "test_mse"
   ]
  },
  {
   "cell_type": "code",
   "execution_count": 41,
   "id": "d12bf46a",
   "metadata": {},
   "outputs": [
    {
     "data": {
      "text/plain": [
       "0.6785113173877653"
      ]
     },
     "execution_count": 41,
     "metadata": {},
     "output_type": "execute_result"
    }
   ],
   "source": [
    "#r^2 на тестовой выборке\n",
    "test_r2_score = r2_score(test_labels, answers)\n",
    "test_r2_score"
   ]
  }
 ],
 "metadata": {
  "kernelspec": {
   "display_name": "Python 3 (ipykernel)",
   "language": "python",
   "name": "python3"
  },
  "language_info": {
   "codemirror_mode": {
    "name": "ipython",
    "version": 3
   },
   "file_extension": ".py",
   "mimetype": "text/x-python",
   "name": "python",
   "nbconvert_exporter": "python",
   "pygments_lexer": "ipython3",
   "version": "3.9.7"
  }
 },
 "nbformat": 4,
 "nbformat_minor": 5
}
