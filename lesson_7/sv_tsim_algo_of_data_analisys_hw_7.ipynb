{
 "cells": [
  {
   "cell_type": "markdown",
   "id": "bdac9b0f",
   "metadata": {},
   "source": [
    "### Урок 7. Классификация с использованием kNN. Кластеризация K-means"
   ]
  },
  {
   "cell_type": "markdown",
   "id": "bf99ff30",
   "metadata": {},
   "source": [
    "1. К алгоритму kNN, реализованному на уроке, реализуйте добавление весов соседей по любому из показанных на уроке принципов.\n",
    "2. Напишите функцию по подсчёту метрики качества кластеризации как среднее квадратичное внутрикластерное расстояние и постройте график её зависимости от k (взять от 1 до 10) для выборки данных из этого урока."
   ]
  },
  {
   "cell_type": "markdown",
   "id": "0254d2d3",
   "metadata": {},
   "source": [
    "**Задание 1**\n",
    "\n",
    "К алгоритму kNN, реализованному на уроке, реализуйте добавление весов соседей по любому из показанных на уроке принципов."
   ]
  },
  {
   "cell_type": "markdown",
   "id": "48863cd9",
   "metadata": {},
   "source": [
    "Запишем алгоритм, реализованный на уроке."
   ]
  },
  {
   "cell_type": "code",
   "execution_count": 2,
   "id": "476a394f",
   "metadata": {},
   "outputs": [],
   "source": [
    "import numpy as np\n",
    "from sklearn import model_selection\n",
    "from sklearn.datasets import load_iris\n",
    "import matplotlib.pyplot as plt\n",
    "import matplotlib\n",
    "%matplotlib inline\n",
    "from matplotlib.colors import ListedColormap"
   ]
  },
  {
   "cell_type": "code",
   "execution_count": 3,
   "id": "a2a92d72",
   "metadata": {},
   "outputs": [],
   "source": [
    "X, y = load_iris(return_X_y=True)\n",
    "\n",
    "# Для наглядности возьмём только первые два признака (всего в датасете их 4)\n",
    "X = X[:, :2]"
   ]
  },
  {
   "cell_type": "code",
   "execution_count": 4,
   "id": "a1da5c9d",
   "metadata": {},
   "outputs": [],
   "source": [
    "# Разделим выборку на обучающую и тестовую\n",
    "X_train, X_test, y_train, y_test = model_selection.train_test_split(X, y, test_size=0.2, random_state=1)"
   ]
  },
  {
   "cell_type": "code",
   "execution_count": 5,
   "id": "1236b38a",
   "metadata": {},
   "outputs": [
    {
     "data": {
      "text/plain": [
       "<matplotlib.collections.PathCollection at 0x25b961aae20>"
      ]
     },
     "execution_count": 5,
     "metadata": {},
     "output_type": "execute_result"
    },
    {
     "data": {
      "image/png": "[encoded data removed]",
      "text/plain": [
       "<Figure size 504x504 with 1 Axes>"
      ]
     },
     "metadata": {
      "needs_background": "light"
     },
     "output_type": "display_data"
    }
   ],
   "source": [
    "cmap = ListedColormap(['red', 'green', 'blue'])\n",
    "plt.figure(figsize=(7, 7))\n",
    "plt.scatter(X[:, 0], X[:, 1], c=y, cmap=cmap)"
   ]
  },
  {
   "cell_type": "code",
   "execution_count": 6,
   "id": "b5dcc71a",
   "metadata": {},
   "outputs": [],
   "source": [
    "# Используем евклидову метрику. Реализуем функцию для её подсчёта.\n",
    "\n",
    "def e_metrics(x1, x2):\n",
    "    \n",
    "    distance = 0\n",
    "    for i in range(len(x1)):\n",
    "        distance += np.square(x1[i] - x2[i])\n",
    "    \n",
    "    return np.sqrt(distance)"
   ]
  },
  {
   "cell_type": "markdown",
   "id": "6e2610e3",
   "metadata": {},
   "source": [
    "Реализуем алгоритм поиска k ближайших соседей."
   ]
  },
  {
   "cell_type": "code",
   "execution_count": 7,
   "id": "0e97e462",
   "metadata": {},
   "outputs": [],
   "source": [
    "def knn(x_train, y_train, x_test, k):\n",
    "    \n",
    "    answers = []\n",
    "    for x in x_test:\n",
    "        test_distances = []\n",
    "            \n",
    "        for i in range(len(x_train)):\n",
    "            \n",
    "            # расчёт расстояния от классифицируемого объекта до\n",
    "            # объекта обучающей выборки\n",
    "            distance = e_metrics(x, x_train[i])\n",
    "            \n",
    "            # Записываем в список значение расстояния и ответа на объекте обучающей выборки\n",
    "            test_distances.append((distance, y_train[i]))\n",
    "        \n",
    "        # создаём словарь со всеми возможными классами\n",
    "        classes = {class_item: 0 for class_item in set(y_train)}\n",
    "        \n",
    "        # Сортируем список и среди первых k-элементов подсчитаем частоту появления разных классов\n",
    "        for d in sorted(test_distances)[0:k]:\n",
    "            classes[d[1]] += 1\n",
    "            \n",
    "        # Записываем в список ответов наиболее часто встречающийся класс\n",
    "        answers.append(sorted(classes, key=classes.get)[-1])\n",
    "    return answers"
   ]
  },
  {
   "cell_type": "markdown",
   "id": "f186630b",
   "metadata": {},
   "source": [
    "Напишем функцию для вычисления точности:"
   ]
  },
  {
   "cell_type": "code",
   "execution_count": 8,
   "id": "5b3c439f",
   "metadata": {},
   "outputs": [],
   "source": [
    "def accuracy(pred, y):\n",
    "    return (sum(pred == y) / len(y))"
   ]
  },
  {
   "cell_type": "markdown",
   "id": "8a0ac34c",
   "metadata": {},
   "source": [
    "Проверим работу алгоритма при различных k:"
   ]
  },
  {
   "cell_type": "code",
   "execution_count": 9,
   "id": "5506e33c",
   "metadata": {},
   "outputs": [
    {
     "name": "stdout",
     "output_type": "stream",
     "text": [
      "Точность алгоритма при k = 1: 0.667\n"
     ]
    }
   ],
   "source": [
    "k = 1\n",
    "\n",
    "y_pred = knn(X_train, y_train, X_test, k)\n",
    "\n",
    "print(f'Точность алгоритма при k = {k}: {accuracy(y_pred, y_test):.3f}')"
   ]
  },
  {
   "cell_type": "markdown",
   "id": "c19318cf",
   "metadata": {},
   "source": [
    "Построим график распределения классов."
   ]
  },
  {
   "cell_type": "code",
   "execution_count": 10,
   "id": "7faf1f06",
   "metadata": {},
   "outputs": [],
   "source": [
    "def get_graph(X_train, y_train, k):\n",
    "    cmap_light = ListedColormap(['#FFAAAA', '#AAFFAA','#00AAFF'])\n",
    "\n",
    "    h = .02\n",
    "\n",
    "    # Расчёт пределов графика\n",
    "    x_min, x_max = X_train[:, 0].min() - 1, X_train[:, 0].max() + 1\n",
    "    y_min, y_max = X_train[:, 1].min() - 1, X_train[:, 1].max() + 1\n",
    "    xx, yy = np.meshgrid(np.arange(x_min, x_max, h), np.arange(y_min, y_max, h))\n",
    "\n",
    "    # Получим предсказания для всех точек\n",
    "    Z = knn(X_train, y_train, np.c_[xx.ravel(), yy.ravel()], k)\n",
    "\n",
    "    # Построим график\n",
    "    Z = np.array(Z).reshape(xx.shape)\n",
    "    plt.figure(figsize=(7,7))\n",
    "    plt.pcolormesh(xx, yy, Z, cmap=cmap_light)\n",
    "\n",
    "    # Добавим на график обучающую выборку\n",
    "    plt.scatter(X_train[:, 0], X_train[:, 1], c=y_train, cmap=cmap)\n",
    "    plt.xlim(xx.min(), xx.max())\n",
    "    plt.ylim(yy.min(), yy.max())\n",
    "    plt.title(f\"Трехклассовая kNN классификация при k = {k}\")\n",
    "    plt.show()Построим график распределения классов."
   ]
  },
  {
   "cell_type": "code",
   "execution_count": 11,
   "id": "6f006b7d",
   "metadata": {},
   "outputs": [
    {
     "name": "stderr",
     "output_type": "stream",
     "text": [
      "C:\\Users\\SV\\AppData\\Local\\Temp/ipykernel_2408/1312077004.py:17: MatplotlibDeprecationWarning: shading='flat' when X and Y have the same dimensions as C is deprecated since 3.3.  Either specify the corners of the quadrilaterals with X and Y, or pass shading='auto', 'nearest' or 'gouraud', or set rcParams['pcolor.shading'].  This will become an error two minor releases later.\n",
      "  plt.pcolormesh(xx, yy, Z, cmap=cmap_light)\n"
     ]
    },
    {
     "data": {
      "image/png": "[encoded data removed]",
      "text/plain": [
       "<Figure size 504x504 with 1 Axes>"
      ]
     },
     "metadata": {
      "needs_background": "light"
     },
     "output_type": "display_data"
    }
   ],
   "source": [
    "get_graph(X_train, y_train, k)"
   ]
  },
  {
   "cell_type": "code",
   "execution_count": 12,
   "id": "9895e63e",
   "metadata": {},
   "outputs": [
    {
     "name": "stdout",
     "output_type": "stream",
     "text": [
      "Точность алгоритма при k = 3: 0.733\n"
     ]
    }
   ],
   "source": [
    "k = 3\n",
    "\n",
    "y_pred = knn(X_train, y_train, X_test, k)\n",
    "\n",
    "print(f'Точность алгоритма при k = {k}: {accuracy(y_pred, y_test):.3f}')"
   ]
  },
  {
   "cell_type": "code",
   "execution_count": 13,
   "id": "f4fedd4d",
   "metadata": {},
   "outputs": [
    {
     "name": "stdout",
     "output_type": "stream",
     "text": [
      "Точность алгоритма при k = 5: 0.867\n"
     ]
    }
   ],
   "source": [
    "k = 5\n",
    "\n",
    "y_pred = knn(X_train, y_train, X_test, k)\n",
    "\n",
    "print(f'Точность алгоритма при k = {k}: {accuracy(y_pred, y_test):.3f}')"
   ]
  },
  {
   "cell_type": "code",
   "execution_count": 14,
   "id": "07d1077f",
   "metadata": {},
   "outputs": [
    {
     "name": "stdout",
     "output_type": "stream",
     "text": [
      "Точность алгоритма при k = 10: 0.833\n"
     ]
    }
   ],
   "source": [
    "k = 10\n",
    "\n",
    "y_pred = knn(X_train, y_train, X_test, k)\n",
    "\n",
    "print(f'Точность алгоритма при k = {k}: {accuracy(y_pred, y_test):.3f}')"
   ]
  },
  {
   "cell_type": "markdown",
   "id": "ba00907b",
   "metadata": {},
   "source": [
    "Теперь будем выполнять задание. \n",
    "\n",
    "От номера соседа $i$ вес установим следующий:\n",
    "\n",
    "- $w(i) = q^{i}$,   $q \\in (0,1)$;"
   ]
  },
  {
   "cell_type": "markdown",
   "id": "0c2e4b29",
   "metadata": {},
   "source": [
    "Изменим функцию knn"
   ]
  },
  {
   "cell_type": "code",
   "execution_count": 47,
   "id": "2cc3b929",
   "metadata": {},
   "outputs": [],
   "source": [
    "def knn_weighted(x_train, y_train, x_test, k, weight=False, q=None):\n",
    "    \n",
    "    answers = []\n",
    "    for x in x_test:\n",
    "        test_distances = []\n",
    "            \n",
    "        for i in range(len(x_train)):\n",
    "            \n",
    "            # расчёт расстояния от классифицируемого объекта до\n",
    "            # объекта обучающей выборки\n",
    "            distance = e_metrics(x, x_train[i])\n",
    "            \n",
    "            # Записываем в список значение расстояния и ответа на объекте обучающей выборки\n",
    "            test_distances.append((distance, y_train[i]))\n",
    "        \n",
    "        # создаём словарь со всеми возможными классами\n",
    "        classes = {class_item: 0 for class_item in set(y_train)}\n",
    "        \n",
    "        # Сортируем список и среди первых k-элементов подсчитаем частоту появления разных классов\n",
    "        for idx, d in enumerate(sorted(test_distances)[0:k]):\n",
    "            if weight:\n",
    "                if not q:\n",
    "                    q = 0.5\n",
    "                classes[d[1]] += q ** idx\n",
    "            else:    \n",
    "                classes[d[1]] += 1\n",
    "            \n",
    "        # Записываем в список ответов наиболее часто встречающийся класс\n",
    "        answers.append(sorted(classes, key=classes.get)[-1])\n",
    "    return answers"
   ]
  },
  {
   "cell_type": "code",
   "execution_count": 80,
   "id": "35551492",
   "metadata": {},
   "outputs": [
    {
     "name": "stdout",
     "output_type": "stream",
     "text": [
      "Точность алгоритма при k = 1: 0.667\n",
      "Точность алгоритма при k = 3: 0.733\n",
      "Точность алгоритма при k = 5: 0.867\n",
      "Точность алгоритма при k = 10: 0.833\n",
      "Точность алгоритма при k = 15: 0.833\n",
      "Точность алгоритма при k = 20: 0.833\n",
      "Точность алгоритма при k = 100: 0.667\n"
     ]
    }
   ],
   "source": [
    "ks = [1, 3, 5, 10, 15, 20, 100]\n",
    "acc_list_without_weight = []\n",
    "# работа алгоритма без наших модификаций\n",
    "for k in ks:\n",
    "    y_pred = knn(X_train, y_train, X_test, k)\n",
    "    acc = accuracy(y_pred, y_test)\n",
    "    acc_list_without_weight.append(acc)\n",
    "    print(f'Точность алгоритма при k = {k}: {acc:.3f}')   "
   ]
  },
  {
   "cell_type": "code",
   "execution_count": 81,
   "id": "ffdeffa1",
   "metadata": {},
   "outputs": [
    {
     "data": {
      "text/plain": [
       "[0.6666666666666666,\n",
       " 0.7333333333333333,\n",
       " 0.8666666666666667,\n",
       " 0.8333333333333334,\n",
       " 0.8333333333333334,\n",
       " 0.8333333333333334,\n",
       " 0.6666666666666666]"
      ]
     },
     "execution_count": 81,
     "metadata": {},
     "output_type": "execute_result"
    }
   ],
   "source": [
    "acc_list_without_weight"
   ]
  },
  {
   "cell_type": "code",
   "execution_count": 82,
   "id": "96b9214b",
   "metadata": {},
   "outputs": [
    {
     "name": "stdout",
     "output_type": "stream",
     "text": [
      "Точность алгоритма при k = 1: 0.667\n",
      "Точность алгоритма при k = 3: 0.667\n",
      "Точность алгоритма при k = 5: 0.667\n",
      "Точность алгоритма при k = 10: 0.667\n",
      "Точность алгоритма при k = 15: 0.667\n",
      "Точность алгоритма при k = 20: 0.667\n",
      "Точность алгоритма при k = 100: 0.667\n"
     ]
    }
   ],
   "source": [
    "# работа алгоритма с нашими модицикациями без указания веса (по умолчанию 0.5)\n",
    "for k in ks:\n",
    "    y_pred =  knn_weighted(X_train, y_train, X_test, k, weight = True)\n",
    "    print(f'Точность алгоритма при k = {k}: {accuracy(y_pred, y_test):.3f}')"
   ]
  },
  {
   "cell_type": "code",
   "execution_count": 86,
   "id": "d1f9bf67",
   "metadata": {},
   "outputs": [
    {
     "name": "stdout",
     "output_type": "stream",
     "text": [
      "Точность алгоритма при k = 1, q = 0.5: 0.667\n",
      "Точность алгоритма при k = 3, q = 0.5: 0.667\n",
      "Точность алгоритма при k = 5, q = 0.5: 0.667\n",
      "Точность алгоритма при k = 10, q = 0.5: 0.667\n",
      "Точность алгоритма при k = 15, q = 0.5: 0.667\n",
      "Точность алгоритма при k = 20, q = 0.5: 0.667\n",
      "Точность алгоритма при k = 100, q = 0.5: 0.667\n",
      " *======*  *======*  *======*  *======* \n",
      "Точность алгоритма при k = 1, q = 0.6: 0.667\n",
      "Точность алгоритма при k = 3, q = 0.6: 0.667\n",
      "Точность алгоритма при k = 5, q = 0.6: 0.733\n",
      "Точность алгоритма при k = 10, q = 0.6: 0.733\n",
      "Точность алгоритма при k = 15, q = 0.6: 0.733\n",
      "Точность алгоритма при k = 20, q = 0.6: 0.733\n",
      "Точность алгоритма при k = 100, q = 0.6: 0.733\n",
      " *======*  *======*  *======*  *======* \n",
      "Точность алгоритма при k = 1, q = 0.7: 0.667\n",
      "Точность алгоритма при k = 3, q = 0.7: 0.733\n",
      "Точность алгоритма при k = 5, q = 0.7: 0.733\n",
      "Точность алгоритма при k = 10, q = 0.7: 0.767\n",
      "Точность алгоритма при k = 15, q = 0.7: 0.767\n",
      "Точность алгоритма при k = 20, q = 0.7: 0.767\n",
      "Точность алгоритма при k = 100, q = 0.7: 0.767\n",
      " *======*  *======*  *======*  *======* \n",
      "Точность алгоритма при k = 1, q = 0.8: 0.667\n",
      "Точность алгоритма при k = 3, q = 0.8: 0.733\n",
      "Точность алгоритма при k = 5, q = 0.8: 0.800\n",
      "Точность алгоритма при k = 10, q = 0.8: 0.833\n",
      "Точность алгоритма при k = 15, q = 0.8: 0.867\n",
      "Точность алгоритма при k = 20, q = 0.8: 0.867\n",
      "Точность алгоритма при k = 100, q = 0.8: 0.867\n",
      " *======*  *======*  *======*  *======* \n",
      "Точность алгоритма при k = 1, q = 0.9: 0.667\n",
      "Точность алгоритма при k = 3, q = 0.9: 0.733\n",
      "Точность алгоритма при k = 5, q = 0.9: 0.867\n",
      "Точность алгоритма при k = 10, q = 0.9: 0.867\n",
      "Точность алгоритма при k = 15, q = 0.9: 0.867\n",
      "Точность алгоритма при k = 20, q = 0.9: 0.867\n",
      "Точность алгоритма при k = 100, q = 0.9: 0.867\n",
      " *======*  *======*  *======*  *======* \n"
     ]
    }
   ],
   "source": [
    "# работа алгоритма с нашими модицикациями с указанием веса\n",
    "total_list_acc = []\n",
    "qs = [0.5, 0.6, 0.7, 0.8, 0.9]\n",
    "for q in qs:\n",
    "    acc_list = []\n",
    "    for k in ks:\n",
    "        y_pred =  knn_weighted(X_train, y_train, X_test, k, weight = True, q=q)\n",
    "        accur = accuracy(y_pred, y_test)\n",
    "        acc_list.append(accur)\n",
    "        print(f'Точность алгоритма при k = {k}, q = {q}: {accur:.3f}')\n",
    "    total_list_acc.append(acc_list)\n",
    "    print(' *======* ' * 4)"
   ]
  },
  {
   "cell_type": "code",
   "execution_count": 87,
   "id": "6e7ff3a0",
   "metadata": {},
   "outputs": [
    {
     "data": {
      "text/plain": [
       "[[0.6666666666666666,\n",
       "  0.6666666666666666,\n",
       "  0.6666666666666666,\n",
       "  0.6666666666666666,\n",
       "  0.6666666666666666,\n",
       "  0.6666666666666666,\n",
       "  0.6666666666666666],\n",
       " [0.6666666666666666,\n",
       "  0.6666666666666666,\n",
       "  0.7333333333333333,\n",
       "  0.7333333333333333,\n",
       "  0.7333333333333333,\n",
       "  0.7333333333333333,\n",
       "  0.7333333333333333],\n",
       " [0.6666666666666666,\n",
       "  0.7333333333333333,\n",
       "  0.7333333333333333,\n",
       "  0.7666666666666667,\n",
       "  0.7666666666666667,\n",
       "  0.7666666666666667,\n",
       "  0.7666666666666667],\n",
       " [0.6666666666666666,\n",
       "  0.7333333333333333,\n",
       "  0.8,\n",
       "  0.8333333333333334,\n",
       "  0.8666666666666667,\n",
       "  0.8666666666666667,\n",
       "  0.8666666666666667],\n",
       " [0.6666666666666666,\n",
       "  0.7333333333333333,\n",
       "  0.8666666666666667,\n",
       "  0.8666666666666667,\n",
       "  0.8666666666666667,\n",
       "  0.8666666666666667,\n",
       "  0.8666666666666667]]"
      ]
     },
     "execution_count": 87,
     "metadata": {},
     "output_type": "execute_result"
    }
   ],
   "source": [
    "total_list_acc"
   ]
  },
  {
   "cell_type": "code",
   "execution_count": 92,
   "id": "3783cc71",
   "metadata": {},
   "outputs": [
    {
     "data": {
      "text/plain": [
       "<matplotlib.legend.Legend at 0x25b972703a0>"
      ]
     },
     "execution_count": 92,
     "metadata": {},
     "output_type": "execute_result"
    },
    {
     "data": {
      "image/png": "[encoded data removed]",
      "text/plain": [
       "<Figure size 1152x576 with 1 Axes>"
      ]
     },
     "metadata": {
      "needs_background": "light"
     },
     "output_type": "display_data"
    }
   ],
   "source": [
    "# Визуализируем изменение точности алгоритма\n",
    "plt.figure(figsize= (16, 8))\n",
    "\n",
    "plt.plot(ks, acc_list_without_weight, linewidth=2, markersize=7,  label = 'accuracy without weight' )\n",
    "#plt.plot(trees, test_accuracies, 'c-o', linewidth=2, markersize=7, label = 'test accuracy')\n",
    "for idx, i in enumerate(total_list_acc):\n",
    "    plt.plot(ks, i, linewidth=2, markersize=7,  label = f'accuracy with weight {qs[idx]}' )\n",
    "    \n",
    "plt.title('Accuracy change')\n",
    "plt.xlabel('Number of K Nearest Neighbor')\n",
    "plt.ylabel('Accuracy')\n",
    "plt.grid()\n",
    "plt.legend(loc='lower right')"
   ]
  },
  {
   "cell_type": "markdown",
   "id": "ad17e4af",
   "metadata": {},
   "source": [
    "**Выводы**\n",
    "\n",
    "Мы попробовали проанализировать работу алгоритма KNN без весов для каждого соседа в зависимости от его удаленности от целевой точки, а также работу алгоритма с заданными весами по формуле: \n",
    "\n",
    "- $w(i) = q^{i}$,   $q \\in (0,1)$;\n",
    "\n",
    "Изучили алгоритм с весами 0.5, 0.6, 0.7, 0.8, 0.9.\n",
    "\n",
    "Выводы: \n",
    "\n",
    "Без весов алгоритм показывает хороший результат при k=5:\n",
    "\n",
    "Точность алгоритма при k = 5: 0.867\n",
    "\n",
    "А далее его точность начинается снижаться. \n",
    "\n",
    "При весе 0.5 алгоритм дает всегда одиниковую точность 0.67. Думаю, это связано с тем, что учитывается только 1е несколько соседей, а влияние остальных начинает \"зануляться\".\n",
    "\n",
    "Веса 0.6 и 0.7 дают чуть более лучший результат, но суть такая же. Дальше определенного порога влияние соседей очень слабое. \n",
    "\n",
    "Наилучший резульат показал вес 0.9. \n",
    "\n",
    "Он также показывает лучшую точность при k=5, но далее она не снижается как при работе без весов, а сохраняется вплоть до k=100. "
   ]
  }
 ],
 "metadata": {
  "kernelspec": {
   "display_name": "Python 3 (ipykernel)",
   "language": "python",
   "name": "python3"
  },
  "language_info": {
   "codemirror_mode": {
    "name": "ipython",
    "version": 3
   },
   "file_extension": ".py",
   "mimetype": "text/x-python",
   "name": "python",
   "nbconvert_exporter": "python",
   "pygments_lexer": "ipython3",
   "version": "3.9.7"
  }
 },
 "nbformat": 4,
 "nbformat_minor": 5
}
