{
 "cells": [
  {
   "cell_type": "markdown",
   "id": "2e2e767a",
   "metadata": {},
   "source": [
    "### Урок 7. Классификация с использованием kNN. Кластеризация K-means"
   ]
  },
  {
   "cell_type": "markdown",
   "id": "d559428f",
   "metadata": {},
   "source": [
    "**Задание 2**\n",
    "\n",
    "Напишите функцию по подсчёту метрики качества кластеризации как **среднее квадратичное внутрикластерное расстояние** и постройте график её зависимости от k (взять от 1 до 10) для выборки данных из этого урока."
   ]
  },
  {
   "cell_type": "code",
   "execution_count": 1,
   "id": "fad7e22f",
   "metadata": {},
   "outputs": [],
   "source": [
    "import numpy as np\n",
    "from sklearn import model_selection\n",
    "from sklearn.datasets import load_iris\n",
    "import matplotlib.pyplot as plt\n",
    "import matplotlib\n",
    "%matplotlib inline\n",
    "from matplotlib.colors import ListedColormap"
   ]
  },
  {
   "cell_type": "code",
   "execution_count": 2,
   "id": "b29e142b",
   "metadata": {},
   "outputs": [],
   "source": [
    "from sklearn.datasets import make_blobs\n",
    "import random\n",
    "\n",
    "X, y = make_blobs(n_samples=100, random_state=1)"
   ]
  },
  {
   "cell_type": "code",
   "execution_count": 3,
   "id": "e2ee9271",
   "metadata": {},
   "outputs": [
    {
     "data": {
      "text/plain": [
       "<matplotlib.collections.PathCollection at 0x223db9bfb80>"
      ]
     },
     "execution_count": 3,
     "metadata": {},
     "output_type": "execute_result"
    },
    {
     "data": {
      "image/png": "[encoded data removed]",
      "text/plain": [
       "<Figure size 504x504 with 1 Axes>"
      ]
     },
     "metadata": {
      "needs_background": "light"
     },
     "output_type": "display_data"
    }
   ],
   "source": [
    "plt.figure(figsize=(7,7))\n",
    "plt.scatter(X[:, 0], X[:, 1])"
   ]
  },
  {
   "cell_type": "code",
   "execution_count": 4,
   "id": "cc74da9b",
   "metadata": {},
   "outputs": [],
   "source": [
    "# Используем евклидову метрику. Реализуем функцию для её подсчёта.\n",
    "\n",
    "def e_metrics(x1, x2):\n",
    "    \n",
    "    distance = 0\n",
    "    for i in range(len(x1)):\n",
    "        distance += np.square(x1[i] - x2[i])\n",
    "    \n",
    "    return np.sqrt(distance)"
   ]
  },
  {
   "cell_type": "markdown",
   "id": "803cf0e8",
   "metadata": {},
   "source": [
    "В качестве метрики расстояния будем использовать евклидово расстояние, функция для которого была написана ранее. В роли центроидов выберем первые k элементов датасета. Реализуем основной цикл алгоритма."
   ]
  },
  {
   "cell_type": "code",
   "execution_count": 5,
   "id": "54f20aad",
   "metadata": {},
   "outputs": [],
   "source": [
    "def kmeans(data, k, max_iterations, min_distance):    \n",
    "    # инициализируем центроиды как первые k элементов датасета\n",
    "    centroids = [data[i] for i in range(k)]\n",
    "    \n",
    "    for _ in range(max_iterations):\n",
    "        # Создадим словарь для классификации\n",
    "        classes = {i: [] for i in range(k)}\n",
    "        \n",
    "        # классифицируем объекты по центроидам\n",
    "        for x in data:\n",
    "            # определим расстояния от объекта до каждого центроида\n",
    "            distances = [e_metrics(x, centroid) for centroid in centroids]\n",
    "            # отнесём объект к кластеру, до центроида которого наименьшее расстояние\n",
    "            classification = distances.index(min(distances))\n",
    "            classes[classification].append(x)\n",
    "        \n",
    "        # сохраним предыдущие центроиды в отдельный список для последующего сравнения с новыми\n",
    "        old_centroids = centroids.copy()\n",
    "        \n",
    "        # пересчитаем центроиды как среднее по кластерам\n",
    "        for classification in classes:\n",
    "            centroids[classification] = np.average(classes[classification], axis=0)\n",
    "            \n",
    "        # сравним величину смещения центроидов с минимальной\n",
    "        optimal = True\n",
    "        for centroid in range(len(centroids)):\n",
    "            if np.sum(abs((centroids[centroid] - old_centroids[centroid]) / old_centroids * 100)) > min_distance:\n",
    "                optimal = False\n",
    "                \n",
    "        # если все смещения меньше минимального, останавливаем алгоритм  \n",
    "        if optimal:\n",
    "            break\n",
    "    \n",
    "    return old_centroids, classes"
   ]
  },
  {
   "cell_type": "code",
   "execution_count": 6,
   "id": "f9a10797",
   "metadata": {},
   "outputs": [],
   "source": [
    "def visualize(centroids, classes):\n",
    "    colors = ['r', 'g', 'b']\n",
    "    \n",
    "    plt.figure(figsize=(7,7))\n",
    "    \n",
    "    # нанесём на график центроиды\n",
    "    for centroid in centroids:\n",
    "        plt.scatter(centroid[0], centroid[1], marker='x', s=130, c='black')\n",
    "        \n",
    "    # нанесём объекты, раскрашенные по классам\n",
    "    for class_item in classes:\n",
    "        for x in classes[class_item]:\n",
    "            plt.scatter(x[0], x[1], color=colors[class_item])\n",
    "            \n",
    "    plt.show()"
   ]
  },
  {
   "cell_type": "code",
   "execution_count": 11,
   "id": "8665ad79",
   "metadata": {},
   "outputs": [],
   "source": [
    "# определим максимальное количество итераций\n",
    "max_iterations = 10\n",
    "\n",
    "# и минимальное расстояние между центроидами до пересчёта и после него, при котором нужно остановить алгоритм\n",
    "min_distance = 1e-4\n",
    "\n",
    "# сразу определим известное нам количество кластеров\n",
    "k = 3"
   ]
  },
  {
   "cell_type": "code",
   "execution_count": 12,
   "id": "5ade559d",
   "metadata": {},
   "outputs": [
    {
     "data": {
      "image/png": "[encoded data removed]",
      "text/plain": [
       "<Figure size 504x504 with 1 Axes>"
      ]
     },
     "metadata": {
      "needs_background": "light"
     },
     "output_type": "display_data"
    }
   ],
   "source": [
    "centroids, clusters = kmeans(X, k, max_iterations, min_distance)\n",
    "\n",
    "visualize(centroids, clusters)"
   ]
  },
  {
   "cell_type": "code",
   "execution_count": 13,
   "id": "91435f23",
   "metadata": {},
   "outputs": [
    {
     "data": {
      "text/plain": [
       "{0: [array([-0.79415228,  2.10495117]),\n",
       "  array([-2.76017908,  5.55121358]),\n",
       "  array([-1.17104176,  4.33091816]),\n",
       "  array([-2.4067182 ,  6.09894447]),\n",
       "  array([-2.34673261,  3.56128423]),\n",
       "  array([-1.34052081,  4.15711949]),\n",
       "  array([-1.35938959,  4.05424002]),\n",
       "  array([-0.19745197,  2.34634916]),\n",
       "  array([-1.92744799,  4.93684534]),\n",
       "  array([-2.8020781 ,  4.05714715]),\n",
       "  array([-1.85139546,  3.5188609 ]),\n",
       "  array([-1.98197711,  4.02243551]),\n",
       "  array([-0.75796919,  4.90898421]),\n",
       "  array([0.5260155 , 3.00999353]),\n",
       "  array([-2.77687025,  4.64090557]),\n",
       "  array([-1.78245013,  3.47072043]),\n",
       "  array([-1.53940095,  5.02369298]),\n",
       "  array([-1.61734616,  4.98930508]),\n",
       "  array([-1.14663009,  4.10839703]),\n",
       "  array([-2.41395785,  5.65935802]),\n",
       "  array([-1.83198811,  3.52863145]),\n",
       "  array([-0.82057649,  5.33759195]),\n",
       "  array([2.42271161e-04, 5.14853403e+00]),\n",
       "  array([-2.18773166,  3.33352125]),\n",
       "  array([-0.52793052,  5.92630669]),\n",
       "  array([-2.35122066,  4.00973634]),\n",
       "  array([-0.52579046,  3.3065986 ]),\n",
       "  array([-1.46864442,  6.50674501]),\n",
       "  array([-0.75870396,  3.72276201]),\n",
       "  array([-2.33080604,  4.39382527]),\n",
       "  array([-1.60875215,  3.76949422]),\n",
       "  array([-1.86845414,  4.99311306]),\n",
       "  array([-1.37397258,  5.29163103]),\n",
       "  array([0.08525186, 3.64528297])],\n",
       " 1: [array([-4.53655648, -8.40186288]),\n",
       "  array([-6.26302115, -8.10666081]),\n",
       "  array([-6.38481234, -8.4730297 ]),\n",
       "  array([-7.17532921, -8.77059017]),\n",
       "  array([ -4.87418245, -10.04958903]),\n",
       "  array([-6.078547 , -7.9396942]),\n",
       "  array([-6.83238762, -7.4706767 ]),\n",
       "  array([-6.50212109, -7.91249101]),\n",
       "  array([-6.81608302, -8.44986926]),\n",
       "  array([ -7.37499896, -10.58806587]),\n",
       "  array([-6.62351774, -8.25338334]),\n",
       "  array([-6.54430585, -9.29756949]),\n",
       "  array([-7.58197664, -9.15025493]),\n",
       "  array([-7.25145196, -8.25497398]),\n",
       "  array([-7.20132693, -8.27228229]),\n",
       "  array([-6.78421711, -8.22634081]),\n",
       "  array([-6.53541686, -8.01552689]),\n",
       "  array([-6.40583239, -9.78066645]),\n",
       "  array([-6.98706106, -7.53484784]),\n",
       "  array([-7.46576038, -7.32922249]),\n",
       "  array([-6.56967086, -8.32793126]),\n",
       "  array([-7.71179887, -7.25174121]),\n",
       "  array([-6.56169737, -6.86000222]),\n",
       "  array([-5.73342507, -8.44053597]),\n",
       "  array([-8.33744094, -7.83968038]),\n",
       "  array([-6.4625629, -7.7329459]),\n",
       "  array([-6.19599603, -7.40281646]),\n",
       "  array([-7.02121319, -8.37954235]),\n",
       "  array([-5.16022348, -7.04217141]),\n",
       "  array([-5.90454361, -7.78373539]),\n",
       "  array([-6.02605758, -5.96624846]),\n",
       "  array([-7.04747278, -9.27524683]),\n",
       "  array([-6.25393051, -7.10878601])],\n",
       " 2: [array([-9.15155186, -4.81286449]),\n",
       "  array([-11.44182631,  -4.45781441]),\n",
       "  array([-9.76761777, -3.19133737]),\n",
       "  array([-9.20490564, -4.57687928]),\n",
       "  array([-10.03640801,  -5.5691209 ]),\n",
       "  array([-9.87589123, -2.82386464]),\n",
       "  array([-10.34156618,  -3.90975169]),\n",
       "  array([-11.09262435,  -3.78396611]),\n",
       "  array([-10.26393101,  -3.920734  ]),\n",
       "  array([-10.37299745,  -4.59207895]),\n",
       "  array([-8.37006175, -3.61533685]),\n",
       "  array([-8.79879462, -3.76819213]),\n",
       "  array([-11.37082982,  -3.63818916]),\n",
       "  array([-10.17863281,  -4.55726918]),\n",
       "  array([-9.64716652, -5.26563196]),\n",
       "  array([-11.22777064,  -3.40281105]),\n",
       "  array([-9.79941278, -3.8343399 ]),\n",
       "  array([-10.22004065,  -4.15410662]),\n",
       "  array([-10.61771335,  -3.25531651]),\n",
       "  array([-8.72395657, -1.9862468 ]),\n",
       "  array([-9.81115111, -3.5432969 ]),\n",
       "  array([-10.02232946,  -4.72851017]),\n",
       "  array([-11.85569437,  -2.71718452]),\n",
       "  array([-9.57421815, -3.87600848]),\n",
       "  array([-9.59422086, -3.35977002]),\n",
       "  array([-9.25715605, -4.90704915]),\n",
       "  array([-9.68207756, -5.97554976]),\n",
       "  array([-10.44484107,  -2.72884084]),\n",
       "  array([-11.19698054,  -3.09000323]),\n",
       "  array([-9.83767543, -3.07717963]),\n",
       "  array([-10.30391652,  -3.1253739 ]),\n",
       "  array([-10.66837479,  -3.57578476]),\n",
       "  array([-8.8762948 , -3.54444801])]}"
      ]
     },
     "execution_count": 13,
     "metadata": {},
     "output_type": "execute_result"
    }
   ],
   "source": [
    "clusters"
   ]
  },
  {
   "cell_type": "code",
   "execution_count": 14,
   "id": "dc477b76",
   "metadata": {},
   "outputs": [
    {
     "data": {
      "text/plain": [
       "[array([-1.4710815 ,  4.33721882]),\n",
       " array([-6.58196786, -8.17239339]),\n",
       " array([-10.04935243,  -3.85954095])]"
      ]
     },
     "execution_count": 14,
     "metadata": {},
     "output_type": "execute_result"
    }
   ],
   "source": [
    "centroids"
   ]
  },
  {
   "cell_type": "markdown",
   "id": "2658d677",
   "metadata": {},
   "source": [
    "Будем использовать формулу\n",
    "\n",
    "- Среднее квадратичное внутрикластерное расстояние.\n",
    "\n",
    "    $$\\sum_{k=1}^{K}\\frac{1}{|k|}\\sum_{i=1}^{l}[a(x_{i})=k]\\rho^{2}(x_{i}, c_{k})$$"
   ]
  },
  {
   "cell_type": "code",
   "execution_count": 18,
   "id": "809db4d3",
   "metadata": {},
   "outputs": [],
   "source": [
    "def mean_square_into_cluster_distance(centroids, clusters):\n",
    "    dist_sum = []\n",
    "    for idx, cluster in clusters.items():\n",
    "        cluster_list = []\n",
    "        for el in cluster:\n",
    "            dist = e_metrics(el, centroids[idx])\n",
    "            cluster_list.append(dist ** 2)\n",
    "        dist_sum.append(np.mean(cluster_list))\n",
    "    return sum(dist_sum)"
   ]
  },
  {
   "cell_type": "code",
   "execution_count": 19,
   "id": "fa3e02fb",
   "metadata": {},
   "outputs": [
    {
     "name": "stdout",
     "output_type": "stream",
     "text": [
      "4.682216258738468\n"
     ]
    }
   ],
   "source": [
    "print(mean_square_into_cluster_distance(centroids, clusters))"
   ]
  },
  {
   "cell_type": "code",
   "execution_count": 22,
   "id": "eedc6c51",
   "metadata": {},
   "outputs": [
    {
     "data": {
      "text/plain": [
       "[1, 2, 3, 4, 5, 6, 7, 8, 9, 10]"
      ]
     },
     "execution_count": 22,
     "metadata": {},
     "output_type": "execute_result"
    }
   ],
   "source": [
    "ks = list(range(1, 11))\n",
    "ks"
   ]
  },
  {
   "cell_type": "code",
   "execution_count": 23,
   "id": "6956be7c",
   "metadata": {},
   "outputs": [
    {
     "name": "stdout",
     "output_type": "stream",
     "text": [
      "[41.18153777704472, 10.881849094602702, 4.682216258738468, 4.834363560848225, 4.715237884593066, 5.692331738106566, 5.48129814571242, 5.619563724867451, 5.915459205429209, 5.696782421502369]\n"
     ]
    }
   ],
   "source": [
    "mean_square_distance = []\n",
    "for k in ks:\n",
    "    centroids, clusters = kmeans(X, k, max_iterations, min_distance)\n",
    "    dist = mean_square_into_cluster_distance(centroids, clusters)\n",
    "    mean_square_distance.append(dist)\n",
    "    \n",
    "print(mean_square_distance)"
   ]
  },
  {
   "cell_type": "code",
   "execution_count": 26,
   "id": "2c9908ce",
   "metadata": {},
   "outputs": [
    {
     "data": {
      "text/plain": [
       "<matplotlib.legend.Legend at 0x223dcc50940>"
      ]
     },
     "execution_count": 26,
     "metadata": {},
     "output_type": "execute_result"
    },
    {
     "data": {
      "image/png": "[encoded data removed]",
      "text/plain": [
       "<Figure size 1152x576 with 1 Axes>"
      ]
     },
     "metadata": {
      "needs_background": "light"
     },
     "output_type": "display_data"
    }
   ],
   "source": [
    "# Визуализируем изменение среднего квадратичного внутрикластерного расстояния.\n",
    "plt.figure(figsize= (16, 8))\n",
    "\n",
    "plt.plot(ks, mean_square_distance, 'm-o', linewidth=2, markersize=7,  label = 'mean square into cluster distance' )\n",
    "plt.title('Change of mean square into cluster distance')\n",
    "plt.xlabel('Number of k-means')\n",
    "plt.ylabel('Mean square into cluster distance')\n",
    "plt.grid()\n",
    "plt.legend(loc='lower right')"
   ]
  },
  {
   "cell_type": "markdown",
   "id": "49ee92b2",
   "metadata": {},
   "source": [
    "**Выводы**\n",
    "\n",
    "Как показывает график (метод локтя), действительно оптимальным количеством k-means является 3."
   ]
  }
 ],
 "metadata": {
  "kernelspec": {
   "display_name": "Python 3 (ipykernel)",
   "language": "python",
   "name": "python3"
  },
  "language_info": {
   "codemirror_mode": {
    "name": "ipython",
    "version": 3
   },
   "file_extension": ".py",
   "mimetype": "text/x-python",
   "name": "python",
   "nbconvert_exporter": "python",
   "pygments_lexer": "ipython3",
   "version": "3.9.7"
  }
 },
 "nbformat": 4,
 "nbformat_minor": 5
}
